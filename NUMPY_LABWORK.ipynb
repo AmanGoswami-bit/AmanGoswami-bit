{
  "nbformat": 4,
  "nbformat_minor": 0,
  "metadata": {
    "colab": {
      "provenance": [],
      "include_colab_link": true
    },
    "kernelspec": {
      "name": "python3",
      "display_name": "Python 3"
    },
    "language_info": {
      "name": "python"
    }
  },
  "cells": [
    {
      "cell_type": "markdown",
      "metadata": {
        "id": "view-in-github",
        "colab_type": "text"
      },
      "source": [
        "<a href=\"https://colab.research.google.com/github/AmanGoswami-bit/AmanGoswami-bit/blob/main/NUMPY_LABWORK.ipynb\" target=\"_parent\"><img src=\"https://colab.research.google.com/assets/colab-badge.svg\" alt=\"Open In Colab\"/></a>"
      ]
    },
    {
      "cell_type": "markdown",
      "source": [
        "#Introduction to NumPy"
      ],
      "metadata": {
        "id": "yoY9zaHtpTXP"
      }
    },
    {
      "cell_type": "markdown",
      "source": [
        "NumPy is an essential Python library. TensorFlow and scikit-learn use NumPy arrays as inputs, and pandas and Matplotlib are built on top of NumPy. In this Introduction to NumPy, you’ll become a master wrangler of NumPy’s core object: arrays! Using data from New York City’s tree census, you’ll create, sort, filter, and update arrays. You’ll discover why NumPy is so efficient and use broadcasting and vectorization to make your NumPy code even faster. By the end, you’ll be using 3D arrays to alter a Claude Monet painting, and you’ll understand why such array alterations are essential tools for machine learning."
      ],
      "metadata": {
        "id": "jrbdbWT2pWwR"
      }
    },
    {
      "cell_type": "markdown",
      "source": [
        "# Understanding NumPy Arrays\n",
        "Meet the incredible NumPy array! Learn how to create and change array shapes to suit your needs. Finally, discover NumPy’s many data types and how they contribute to speedy array operations."
      ],
      "metadata": {
        "id": "PJDVNeLTpozV"
      }
    },
    {
      "cell_type": "markdown",
      "source": [
        "#Introducing arrays\n",
        "Your first NumPy array\n",
        "Once you’re comfortable with NumPy, you’ll find yourself converting Python lists into NumPy arrays all the time for increased speed and access to NumPy’s excellent array methods.\n",
        "\n",
        "`sudoku_list` is a Python list containing a sudoku game:"
      ],
      "metadata": {
        "id": "pYJCBX1tp2cX"
      }
    },
    {
      "cell_type": "code",
      "source": [
        "sudoku_list = [[0, 0, 4, 3, 0, 0, 2, 0, 9],\n",
        "                [0, 0, 5, 0, 0, 9, 0, 0, 1],\n",
        "                [0, 7, 0, 0, 6, 0, 0, 4, 3],\n",
        "                [0, 0, 6, 0, 0, 2, 0, 8, 7],\n",
        "                [1, 9, 0, 0, 0, 7, 4, 0, 0],\n",
        "                [0, 5, 0, 0, 8, 3, 0, 0, 0],\n",
        "                [6, 0, 0, 0, 0, 0, 1, 0, 5],\n",
        "                [0, 0, 3, 5, 0, 8, 6, 9, 0],\n",
        "                [0, 4, 2, 9, 1, 0, 3, 0, 0]]"
      ],
      "metadata": {
        "id": "LMNyarmPp66R"
      },
      "execution_count": 25,
      "outputs": []
    },
    {
      "cell_type": "markdown",
      "source": [
        "You’re going to change `sudoku_list` into a NumPy array so you can practice with it in later, for example by creating a 4D array of sudoku games along with their solutions!\n",
        "\n",
        "*   Import NumPy using its generally accepted alias.\n",
        "*   Convert `sudoku_list` into a NumPy array called `sudoku_array`.\n",
        "*   Print the class `type()` of `sudoku_array` to check that your code has worked properly."
      ],
      "metadata": {
        "id": "irIRgHmgqJqu"
      }
    },
    {
      "cell_type": "code",
      "source": [
        "# Import NumPy\n",
        "import numpy as np\n",
        "\n",
        "# Convert sudoku_list into an array\n",
        "sudoku_array = np.array(sudoku_list)\n",
        "\n",
        "# Print the type of sudoku_array\n",
        "print(type(sudoku_array))\n",
        "print(\"Sudoku Array:\\n\", sudoku_array)"
      ],
      "metadata": {
        "id": "CWKk9yEQqZPL",
        "colab": {
          "base_uri": "https://localhost:8080/"
        },
        "outputId": "3a5cebc3-46a4-42e5-daa1-8904f9a2f5f5"
      },
      "execution_count": 26,
      "outputs": [
        {
          "output_type": "stream",
          "name": "stdout",
          "text": [
            "<class 'numpy.ndarray'>\n",
            "Sudoku Array:\n",
            " [[0 0 4 3 0 0 2 0 9]\n",
            " [0 0 5 0 0 9 0 0 1]\n",
            " [0 7 0 0 6 0 0 4 3]\n",
            " [0 0 6 0 0 2 0 8 7]\n",
            " [1 9 0 0 0 7 4 0 0]\n",
            " [0 5 0 0 8 3 0 0 0]\n",
            " [6 0 0 0 0 0 1 0 5]\n",
            " [0 0 3 5 0 8 6 9 0]\n",
            " [0 4 2 9 1 0 3 0 0]]\n"
          ]
        }
      ]
    },
    {
      "cell_type": "markdown",
      "source": [
        "##Creating arrays from scratch\n",
        "It can be helpful to know how to create quick NumPy arrays from scratch in order to test your code. For example, when you are doing math with large multi-dimensional arrays, it’s nice to check whether the math works as expected on small test arrays before applying your code to the larger arrays. NumPy has many options for creating smaller synthetic arrays.\n",
        "\n",
        "With this in mind, it’s time for you to create some arrays from scratch! `numpy` is imported for you as `np`.\n",
        "\n",
        "*   Create and print an array filled with zeros called `zero_array`, which has two rows and four columns.\n",
        "*   Create and print an array of random floats between `0` and `1` called `random_array`, which has three rows and six columns.\n",
        "\n",
        "\n"
      ],
      "metadata": {
        "id": "CGHDTPbgqkHq"
      }
    },
    {
      "cell_type": "code",
      "source": [
        "# Create an array of zeros which has four columns and two rows\n",
        "zero_array = np.zeros((2,4))\n",
        "print(zero_array)"
      ],
      "metadata": {
        "id": "JeN2TISs-QLv",
        "outputId": "31c9d03b-2bcc-4b7d-a20f-66ba7f299326",
        "colab": {
          "base_uri": "https://localhost:8080/"
        }
      },
      "execution_count": 27,
      "outputs": [
        {
          "output_type": "stream",
          "name": "stdout",
          "text": [
            "[[0. 0. 0. 0.]\n",
            " [0. 0. 0. 0.]]\n"
          ]
        }
      ]
    },
    {
      "cell_type": "code",
      "source": [
        "# Create an array of random floats which has six columns and three rows\n",
        "random_array = np.random.random((3,6))\n",
        "print(random_array)\n",
        "\n",
        "print(np.round(random_array,3))"
      ],
      "metadata": {
        "id": "bKiJOeahqjoz",
        "outputId": "60d39ad8-6739-4d58-8a48-e860d38896f2",
        "colab": {
          "base_uri": "https://localhost:8080/"
        }
      },
      "execution_count": 28,
      "outputs": [
        {
          "output_type": "stream",
          "name": "stdout",
          "text": [
            "[[0.85668845 0.25462401 0.43032238 0.76803474 0.02402659 0.1195338 ]\n",
            " [0.76810049 0.54048944 0.74288148 0.91239428 0.27802117 0.32427402]\n",
            " [0.81723956 0.27818766 0.631467   0.2338096  0.45074759 0.20412782]]\n",
            "[[0.857 0.255 0.43  0.768 0.024 0.12 ]\n",
            " [0.768 0.54  0.743 0.912 0.278 0.324]\n",
            " [0.817 0.278 0.631 0.234 0.451 0.204]]\n"
          ]
        }
      ]
    },
    {
      "cell_type": "markdown",
      "source": [
        "##A range array\n",
        "`np.arange()` has especially useful applications in graphing. Your task is to create a scatter plot with the values from `doubling_array` on the y-axis."
      ],
      "metadata": {
        "id": "sML6KlLrrZyz"
      }
    },
    {
      "cell_type": "code",
      "source": [
        "doubling_array = [1, 2, 4, 8, 16, 32, 64, 128, 256, 512]"
      ],
      "metadata": {
        "id": "uQvWnJXXrrFk"
      },
      "execution_count": 29,
      "outputs": []
    },
    {
      "cell_type": "markdown",
      "source": [
        "Recall that a scatter plot can be created using the following code:\n",
        "\n",
        "\n",
        "```\n",
        "plt.scatter(x_values, y_values)\n",
        "plt.show()\n",
        "```\n",
        "\n",
        "\n",
        "With `doubling_array` on the y-axis, you now need values for the x-axis, which you can create with `np.arange()`!\n",
        "\n",
        "`numpy` is loaded for you as `np`, and `matplotlib.pyplot` is imported as `plt`."
      ],
      "metadata": {
        "id": "UfAJl4a8rtX9"
      }
    },
    {
      "cell_type": "code",
      "source": [
        "import numpy as np\n",
        "from matplotlib import pyplot as plt"
      ],
      "metadata": {
        "id": "gAxKIO4hrxBX"
      },
      "execution_count": 30,
      "outputs": []
    },
    {
      "cell_type": "markdown",
      "source": [
        "*   Using `np.arange()`, create a 1D array called `one_to_ten` which holds all integers from one to ten (inclusive).\n",
        "*   Create a scatterplot with `doubling_array` as the y values and `one_to_ten` as the x values."
      ],
      "metadata": {
        "id": "Oc-69sVNsR6n"
      }
    },
    {
      "cell_type": "code",
      "source": [
        "# Create an array of integers from one to ten\n",
        "one_to_ten = np.arange(1,11)\n",
        "print(one_to_ten)\n",
        "print(doubling_array)\n",
        "\n",
        "# Create your scatterplot\n",
        "p = plt.scatter(one_to_ten, doubling_array)\n",
        "plt.show(p)"
      ],
      "metadata": {
        "id": "AUBxc8lDs2sE",
        "outputId": "92f7efb3-cbd6-4a60-bd49-afefb956943d",
        "colab": {
          "base_uri": "https://localhost:8080/",
          "height": 466
        }
      },
      "execution_count": 31,
      "outputs": [
        {
          "output_type": "stream",
          "name": "stdout",
          "text": [
            "[ 1  2  3  4  5  6  7  8  9 10]\n",
            "[1, 2, 4, 8, 16, 32, 64, 128, 256, 512]\n"
          ]
        },
        {
          "output_type": "display_data",
          "data": {
            "text/plain": [
              "<Figure size 640x480 with 1 Axes>"
            ],
            "image/png": "[encoded data removed]"
          },
          "metadata": {}
        }
      ]
    },
    {
      "cell_type": "markdown",
      "source": [
        "#Array dimensionality\n",
        "##3D array creation\n",
        "In the first section, you created a `sudoku_game` two-dimensional NumPy array. Perhaps you have hundreds of sudoku game arrays, and you’d like to save the solution for this one, `sudoku_solution`, as part of the same array as its corresponding game in order to organize your sudoku data better. You could accomplish this by stacking the two 2D arrays on top of each other to create a 3D array.\n",
        "\n",
        "`numpy` is loaded as `np`, and the `sudoku_game` and `sudoku_solution` arrays are available.\n",
        "\n",
        "* Create a 3D array called `game_and_solution` by stacking the two 2D arrays, `sudoku_game` and `sudoku_solution`, on top of one another; in the final array, `sudoku_game` should appear before `sudoku_solution`.\n",
        "* Print `game_and_solution`."
      ],
      "metadata": {
        "id": "vbb5cwvWs6XR"
      }
    },
    {
      "cell_type": "code",
      "source": [
        "sudoku_solution = np.array([[8, 6, 4, 3, 7, 1, 2, 5, 9],\n",
        "                            [3, 2, 5, 8, 4, 9, 7, 6, 1],\n",
        "                            [9, 7, 1, 2, 6, 5, 8, 4, 3],\n",
        "                            [4, 3, 6, 1, 9, 2, 5, 8, 7],\n",
        "                            [1, 9, 8, 6, 5, 7, 4, 3, 2],\n",
        "                            [2, 5, 7, 4, 8, 3, 9, 1, 6],\n",
        "                            [6, 8, 9, 7, 3, 4, 1, 2, 5],\n",
        "                            [7, 1, 3, 5, 2, 8, 6, 9, 4],\n",
        "                            [5, 4, 2, 9, 1, 6, 3, 7, 8]])\n",
        "sudoku_game = np.array(sudoku_list)\n",
        "print(\"suduko_game:\\n\",sudoku_game)\n",
        "print(\"suduko_solution:\\n\",sudoku_solution)"
      ],
      "metadata": {
        "id": "qW0AzIIht8p3",
        "outputId": "cb4009ab-eee5-41a4-d7a8-8951cabdada2",
        "colab": {
          "base_uri": "https://localhost:8080/"
        }
      },
      "execution_count": 32,
      "outputs": [
        {
          "output_type": "stream",
          "name": "stdout",
          "text": [
            "suduko_game:\n",
            " [[0 0 4 3 0 0 2 0 9]\n",
            " [0 0 5 0 0 9 0 0 1]\n",
            " [0 7 0 0 6 0 0 4 3]\n",
            " [0 0 6 0 0 2 0 8 7]\n",
            " [1 9 0 0 0 7 4 0 0]\n",
            " [0 5 0 0 8 3 0 0 0]\n",
            " [6 0 0 0 0 0 1 0 5]\n",
            " [0 0 3 5 0 8 6 9 0]\n",
            " [0 4 2 9 1 0 3 0 0]]\n",
            "suduko_solution:\n",
            " [[8 6 4 3 7 1 2 5 9]\n",
            " [3 2 5 8 4 9 7 6 1]\n",
            " [9 7 1 2 6 5 8 4 3]\n",
            " [4 3 6 1 9 2 5 8 7]\n",
            " [1 9 8 6 5 7 4 3 2]\n",
            " [2 5 7 4 8 3 9 1 6]\n",
            " [6 8 9 7 3 4 1 2 5]\n",
            " [7 1 3 5 2 8 6 9 4]\n",
            " [5 4 2 9 1 6 3 7 8]]\n"
          ]
        }
      ]
    },
    {
      "cell_type": "code",
      "source": [
        "# Create the game_and_solution 3D array\n",
        "game_and_solution = np.array([sudoku_game, sudoku_solution])\n",
        "\n",
        "# Print game_and_solution\n",
        "print(game_and_solution)"
      ],
      "metadata": {
        "id": "VKBOM5Tis53v",
        "colab": {
          "base_uri": "https://localhost:8080/"
        },
        "outputId": "6687feb9-48e0-459e-a63d-e4e353274317"
      },
      "execution_count": 33,
      "outputs": [
        {
          "output_type": "stream",
          "name": "stdout",
          "text": [
            "[[[0 0 4 3 0 0 2 0 9]\n",
            "  [0 0 5 0 0 9 0 0 1]\n",
            "  [0 7 0 0 6 0 0 4 3]\n",
            "  [0 0 6 0 0 2 0 8 7]\n",
            "  [1 9 0 0 0 7 4 0 0]\n",
            "  [0 5 0 0 8 3 0 0 0]\n",
            "  [6 0 0 0 0 0 1 0 5]\n",
            "  [0 0 3 5 0 8 6 9 0]\n",
            "  [0 4 2 9 1 0 3 0 0]]\n",
            "\n",
            " [[8 6 4 3 7 1 2 5 9]\n",
            "  [3 2 5 8 4 9 7 6 1]\n",
            "  [9 7 1 2 6 5 8 4 3]\n",
            "  [4 3 6 1 9 2 5 8 7]\n",
            "  [1 9 8 6 5 7 4 3 2]\n",
            "  [2 5 7 4 8 3 9 1 6]\n",
            "  [6 8 9 7 3 4 1 2 5]\n",
            "  [7 1 3 5 2 8 6 9 4]\n",
            "  [5 4 2 9 1 6 3 7 8]]]\n"
          ]
        }
      ]
    },
    {
      "cell_type": "markdown",
      "source": [
        "##The fourth dimension\n",
        "Printing arrays is a good way to check code output for small arrays like `sudoku_game_and_solution`, but it becomes unwieldy when dealing with bigger arrays and those with higher dimensions. Another important check is to look at the array’s `.shape`.\n",
        "\n",
        "Now, you’ll create a 4D array that contains two sudoku games and their solutions. `numpy` is loaded as `np`. The `game_and_solution` 3D array you created in the previous example is available, along with `new_sudoku_game` and `new_sudoku_solution`.\n",
        "\n",
        "* Create another 3D array called `new_game_and_solution` with a different 2D game and 2D solution pair: `new_sudoku_game` and `new_sudoku_solution`. `new_sudoku_game` should appear before `new_sudoku_solution`.\n",
        "* Create a 4D array called `games_and_solutions` by making an array out of the two 3D arrays: `game_and_solution` and `new_game_and_solution`, in that order.\n",
        "* Print the shape of `games_and_solutions`."
      ],
      "metadata": {
        "id": "4u3-h3Dxu330"
      }
    },
    {
      "cell_type": "code",
      "source": [
        "new_sudoku_game = np.array([[0, 0, 4, 3, 0, 0, 0, 0, 0],\n",
        "                            [8, 9, 0, 2, 0, 0, 6, 7, 0],\n",
        "                            [7, 0, 0, 9, 0, 0, 0, 5, 0],\n",
        "                            [5, 0, 0, 0, 0, 8, 1, 4, 0],\n",
        "                            [0, 7, 0, 0, 3, 2, 0, 6, 0],\n",
        "                            [6, 0, 0, 0, 0, 1, 3, 0, 8],\n",
        "                            [0, 0, 1, 7, 5, 0, 9, 0, 0],\n",
        "                            [0, 0, 5, 0, 4, 0, 0, 1, 2],\n",
        "                            [9, 8, 0, 0, 0, 6, 0, 0, 5]])\n",
        "print(new_sudoku_game)"
      ],
      "metadata": {
        "id": "BwSql-_sw6YQ",
        "colab": {
          "base_uri": "https://localhost:8080/"
        },
        "outputId": "a753e372-7c89-447c-9487-86bc8060ea4e"
      },
      "execution_count": 34,
      "outputs": [
        {
          "output_type": "stream",
          "name": "stdout",
          "text": [
            "[[0 0 4 3 0 0 0 0 0]\n",
            " [8 9 0 2 0 0 6 7 0]\n",
            " [7 0 0 9 0 0 0 5 0]\n",
            " [5 0 0 0 0 8 1 4 0]\n",
            " [0 7 0 0 3 2 0 6 0]\n",
            " [6 0 0 0 0 1 3 0 8]\n",
            " [0 0 1 7 5 0 9 0 0]\n",
            " [0 0 5 0 4 0 0 1 2]\n",
            " [9 8 0 0 0 6 0 0 5]]\n"
          ]
        }
      ]
    },
    {
      "cell_type": "code",
      "source": [
        "new_sudoku_solution = np.array([[2, 5, 4, 3, 6, 7, 8, 9, 1],\n",
        "                                [8, 9, 3, 2, 1, 5, 6, 7, 4],\n",
        "                                [7, 1, 6, 9, 8, 4, 2, 5, 3],\n",
        "                                [5, 3, 2, 6, 9, 8, 1, 4, 7],\n",
        "                                [1, 7, 8, 4, 3, 2, 5, 6, 9],\n",
        "                                [6, 4, 9, 5, 7, 1, 3, 2, 8],\n",
        "                                [4, 2, 1, 7, 5, 3, 9, 8, 6],\n",
        "                                [3, 6, 5, 8, 4, 9, 7, 1, 2],\n",
        "                                [9, 8, 7, 1, 2, 6, 4, 3, 5]])\n",
        "print(new_sudoku_solution)"
      ],
      "metadata": {
        "id": "WGqAG2bDvXQs",
        "colab": {
          "base_uri": "https://localhost:8080/"
        },
        "outputId": "770e1353-dc8a-4bda-f58c-74f8ea21ffe4"
      },
      "execution_count": 35,
      "outputs": [
        {
          "output_type": "stream",
          "name": "stdout",
          "text": [
            "[[2 5 4 3 6 7 8 9 1]\n",
            " [8 9 3 2 1 5 6 7 4]\n",
            " [7 1 6 9 8 4 2 5 3]\n",
            " [5 3 2 6 9 8 1 4 7]\n",
            " [1 7 8 4 3 2 5 6 9]\n",
            " [6 4 9 5 7 1 3 2 8]\n",
            " [4 2 1 7 5 3 9 8 6]\n",
            " [3 6 5 8 4 9 7 1 2]\n",
            " [9 8 7 1 2 6 4 3 5]]\n"
          ]
        }
      ]
    },
    {
      "cell_type": "markdown",
      "source": [
        "Create another 3D array called `new_game_and_solution` with a different 2D game and 2D solution pair: `new_sudoku_game` and `new_sudoku_solution`. `new_sudoku_game` should appear before `new_sudoku_solution`"
      ],
      "metadata": {
        "id": "chIjSH0MxLSe"
      }
    },
    {
      "cell_type": "code",
      "source": [
        "# Create a second 3D array of another game and its solution\n",
        "new_game_and_solution = np.array([new_sudoku_game, new_sudoku_solution])\n",
        "print(new_game_and_solution)"
      ],
      "metadata": {
        "id": "Pxe9WE3swfdk",
        "colab": {
          "base_uri": "https://localhost:8080/"
        },
        "outputId": "7270e14a-d7bd-4c99-a2d3-e0402feeb0d8"
      },
      "execution_count": 36,
      "outputs": [
        {
          "output_type": "stream",
          "name": "stdout",
          "text": [
            "[[[0 0 4 3 0 0 0 0 0]\n",
            "  [8 9 0 2 0 0 6 7 0]\n",
            "  [7 0 0 9 0 0 0 5 0]\n",
            "  [5 0 0 0 0 8 1 4 0]\n",
            "  [0 7 0 0 3 2 0 6 0]\n",
            "  [6 0 0 0 0 1 3 0 8]\n",
            "  [0 0 1 7 5 0 9 0 0]\n",
            "  [0 0 5 0 4 0 0 1 2]\n",
            "  [9 8 0 0 0 6 0 0 5]]\n",
            "\n",
            " [[2 5 4 3 6 7 8 9 1]\n",
            "  [8 9 3 2 1 5 6 7 4]\n",
            "  [7 1 6 9 8 4 2 5 3]\n",
            "  [5 3 2 6 9 8 1 4 7]\n",
            "  [1 7 8 4 3 2 5 6 9]\n",
            "  [6 4 9 5 7 1 3 2 8]\n",
            "  [4 2 1 7 5 3 9 8 6]\n",
            "  [3 6 5 8 4 9 7 1 2]\n",
            "  [9 8 7 1 2 6 4 3 5]]]\n"
          ]
        }
      ]
    },
    {
      "cell_type": "markdown",
      "source": [
        "Create a 4D array called `games_and_solutions` by making an array out of the two 3D arrays: `game_and_solution` and `new_game_and_solution`, in that order."
      ],
      "metadata": {
        "id": "aaCLI8-uxUF8"
      }
    },
    {
      "cell_type": "code",
      "source": [
        "# Create a 4D array of both game and solution 3D arrays\n",
        "games_and_solutions = np.array([game_and_solution, new_game_and_solution])\n",
        "print(games_and_solutions)"
      ],
      "metadata": {
        "id": "PdHVQGk0xnZY",
        "colab": {
          "base_uri": "https://localhost:8080/"
        },
        "outputId": "5aa57e47-d415-47e7-bc52-5bbaffc66670"
      },
      "execution_count": 37,
      "outputs": [
        {
          "output_type": "stream",
          "name": "stdout",
          "text": [
            "[[[[0 0 4 3 0 0 2 0 9]\n",
            "   [0 0 5 0 0 9 0 0 1]\n",
            "   [0 7 0 0 6 0 0 4 3]\n",
            "   [0 0 6 0 0 2 0 8 7]\n",
            "   [1 9 0 0 0 7 4 0 0]\n",
            "   [0 5 0 0 8 3 0 0 0]\n",
            "   [6 0 0 0 0 0 1 0 5]\n",
            "   [0 0 3 5 0 8 6 9 0]\n",
            "   [0 4 2 9 1 0 3 0 0]]\n",
            "\n",
            "  [[8 6 4 3 7 1 2 5 9]\n",
            "   [3 2 5 8 4 9 7 6 1]\n",
            "   [9 7 1 2 6 5 8 4 3]\n",
            "   [4 3 6 1 9 2 5 8 7]\n",
            "   [1 9 8 6 5 7 4 3 2]\n",
            "   [2 5 7 4 8 3 9 1 6]\n",
            "   [6 8 9 7 3 4 1 2 5]\n",
            "   [7 1 3 5 2 8 6 9 4]\n",
            "   [5 4 2 9 1 6 3 7 8]]]\n",
            "\n",
            "\n",
            " [[[0 0 4 3 0 0 0 0 0]\n",
            "   [8 9 0 2 0 0 6 7 0]\n",
            "   [7 0 0 9 0 0 0 5 0]\n",
            "   [5 0 0 0 0 8 1 4 0]\n",
            "   [0 7 0 0 3 2 0 6 0]\n",
            "   [6 0 0 0 0 1 3 0 8]\n",
            "   [0 0 1 7 5 0 9 0 0]\n",
            "   [0 0 5 0 4 0 0 1 2]\n",
            "   [9 8 0 0 0 6 0 0 5]]\n",
            "\n",
            "  [[2 5 4 3 6 7 8 9 1]\n",
            "   [8 9 3 2 1 5 6 7 4]\n",
            "   [7 1 6 9 8 4 2 5 3]\n",
            "   [5 3 2 6 9 8 1 4 7]\n",
            "   [1 7 8 4 3 2 5 6 9]\n",
            "   [6 4 9 5 7 1 3 2 8]\n",
            "   [4 2 1 7 5 3 9 8 6]\n",
            "   [3 6 5 8 4 9 7 1 2]\n",
            "   [9 8 7 1 2 6 4 3 5]]]]\n"
          ]
        }
      ]
    },
    {
      "cell_type": "markdown",
      "source": [
        "Print the shape of `games_and_solutions`."
      ],
      "metadata": {
        "id": "vUEbdUm2xjB1"
      }
    },
    {
      "cell_type": "code",
      "source": [
        "# Print the shape of your 4D array\n",
        "games_and_solutions.shape"
      ],
      "metadata": {
        "id": "Tacg_U4sxhZm",
        "colab": {
          "base_uri": "https://localhost:8080/"
        },
        "outputId": "018f35a7-fe36-45aa-8248-04c3a07cfbdd"
      },
      "execution_count": 38,
      "outputs": [
        {
          "output_type": "execute_result",
          "data": {
            "text/plain": [
              "(2, 2, 9, 9)"
            ]
          },
          "metadata": {},
          "execution_count": 38
        }
      ]
    },
    {
      "cell_type": "code",
      "source": [
        "print(games_and_solutions.shape)"
      ],
      "metadata": {
        "id": "sd17Vz8Yaw0V",
        "colab": {
          "base_uri": "https://localhost:8080/"
        },
        "outputId": "78f3023f-6326-4314-c59b-604112dde102"
      },
      "execution_count": 39,
      "outputs": [
        {
          "output_type": "stream",
          "name": "stdout",
          "text": [
            "(2, 2, 9, 9)\n"
          ]
        }
      ]
    },
    {
      "cell_type": "markdown",
      "source": [
        "##Flattening and reshaping\n",
        "You’ve learned to change not only array shape but also the number of dimensions that an array has. To test these skills, you’ll change `sudoku_game` from a 2D array to a 1D array and back again. Can we trust NumPy to keep the array elements in the same order after being flattened and reshaped? Time to find out."
      ],
      "metadata": {
        "id": "vGE6XUc6xt0D"
      }
    },
    {
      "cell_type": "markdown",
      "source": [
        "Flatten `sudoku_game` so that it is a 1D array, and save it as `flattened_game`."
      ],
      "metadata": {
        "id": "hjopRVobx-7J"
      }
    },
    {
      "cell_type": "code",
      "source": [
        "print(sudoku_game)"
      ],
      "metadata": {
        "id": "VMtOL_TEAr-X",
        "colab": {
          "base_uri": "https://localhost:8080/"
        },
        "outputId": "d4d218a8-e7ed-413f-c0e8-a8a99b4fb3c4"
      },
      "execution_count": 40,
      "outputs": [
        {
          "output_type": "stream",
          "name": "stdout",
          "text": [
            "[[0 0 4 3 0 0 2 0 9]\n",
            " [0 0 5 0 0 9 0 0 1]\n",
            " [0 7 0 0 6 0 0 4 3]\n",
            " [0 0 6 0 0 2 0 8 7]\n",
            " [1 9 0 0 0 7 4 0 0]\n",
            " [0 5 0 0 8 3 0 0 0]\n",
            " [6 0 0 0 0 0 1 0 5]\n",
            " [0 0 3 5 0 8 6 9 0]\n",
            " [0 4 2 9 1 0 3 0 0]]\n"
          ]
        }
      ]
    },
    {
      "cell_type": "code",
      "source": [
        "# Flatten sudoku_game\n",
        "print(sudoku_game.flatten())\n",
        "flattened_game = sudoku_game.flatten()\n",
        "print(flattened_game)"
      ],
      "metadata": {
        "id": "J4HbgLIhxtbp",
        "colab": {
          "base_uri": "https://localhost:8080/"
        },
        "outputId": "b601ff3f-4162-48d8-ca73-6c5bec61bbf5"
      },
      "execution_count": 41,
      "outputs": [
        {
          "output_type": "stream",
          "name": "stdout",
          "text": [
            "[0 0 4 3 0 0 2 0 9 0 0 5 0 0 9 0 0 1 0 7 0 0 6 0 0 4 3 0 0 6 0 0 2 0 8 7 1\n",
            " 9 0 0 0 7 4 0 0 0 5 0 0 8 3 0 0 0 6 0 0 0 0 0 1 0 5 0 0 3 5 0 8 6 9 0 0 4\n",
            " 2 9 1 0 3 0 0]\n",
            "[0 0 4 3 0 0 2 0 9 0 0 5 0 0 9 0 0 1 0 7 0 0 6 0 0 4 3 0 0 6 0 0 2 0 8 7 1\n",
            " 9 0 0 0 7 4 0 0 0 5 0 0 8 3 0 0 0 6 0 0 0 0 0 1 0 5 0 0 3 5 0 8 6 9 0 0 4\n",
            " 2 9 1 0 3 0 0]\n"
          ]
        }
      ]
    },
    {
      "cell_type": "markdown",
      "source": [
        "Print the `.shape` of `flattened_game`."
      ],
      "metadata": {
        "id": "KwCY0SCVyUF_"
      }
    },
    {
      "cell_type": "code",
      "source": [
        "# Print the shape of flattened_game\n",
        "print(flattened_game.shape)"
      ],
      "metadata": {
        "id": "k0lkuSUYyVVh",
        "colab": {
          "base_uri": "https://localhost:8080/"
        },
        "outputId": "9337bcea-9d0e-4b9e-8b5c-9c797f34e909"
      },
      "execution_count": 42,
      "outputs": [
        {
          "output_type": "stream",
          "name": "stdout",
          "text": [
            "(81,)\n"
          ]
        }
      ]
    },
    {
      "cell_type": "markdown",
      "source": [
        "Reshape the `flattened_game` back to its original shape of nine rows and nine columns; save the new array as `reshaped_game`."
      ],
      "metadata": {
        "id": "NG4Je-jVyDB0"
      }
    },
    {
      "cell_type": "code",
      "source": [
        "# Reshape flattened_game back to a nine by nine array\n",
        "reshaped_game = flattened_game.reshape(9,9)\n",
        "\n",
        "# Print sudoku_game and reshaped_game\n",
        "print(sudoku_game)\n",
        "print(reshaped_game)"
      ],
      "metadata": {
        "id": "219UNYuwyMMF",
        "colab": {
          "base_uri": "https://localhost:8080/"
        },
        "outputId": "1e70c646-9b63-402b-c6c1-b60f77e522b7"
      },
      "execution_count": 43,
      "outputs": [
        {
          "output_type": "stream",
          "name": "stdout",
          "text": [
            "[[0 0 4 3 0 0 2 0 9]\n",
            " [0 0 5 0 0 9 0 0 1]\n",
            " [0 7 0 0 6 0 0 4 3]\n",
            " [0 0 6 0 0 2 0 8 7]\n",
            " [1 9 0 0 0 7 4 0 0]\n",
            " [0 5 0 0 8 3 0 0 0]\n",
            " [6 0 0 0 0 0 1 0 5]\n",
            " [0 0 3 5 0 8 6 9 0]\n",
            " [0 4 2 9 1 0 3 0 0]]\n",
            "[[0 0 4 3 0 0 2 0 9]\n",
            " [0 0 5 0 0 9 0 0 1]\n",
            " [0 7 0 0 6 0 0 4 3]\n",
            " [0 0 6 0 0 2 0 8 7]\n",
            " [1 9 0 0 0 7 4 0 0]\n",
            " [0 5 0 0 8 3 0 0 0]\n",
            " [6 0 0 0 0 0 1 0 5]\n",
            " [0 0 3 5 0 8 6 9 0]\n",
            " [0 4 2 9 1 0 3 0 0]]\n"
          ]
        }
      ]
    },
    {
      "cell_type": "markdown",
      "source": [
        "##NumPy data types\n",
        "The dtype argument\n",
        "One way to control the data type of a NumPy array is to declare it when the array is created using the `dtype` keyword argument. Take a look at the data type NumPy uses by default when creating an array with `np.zeros()`. Could it be updated?"
      ],
      "metadata": {
        "id": "JVsBgT8fy34u"
      }
    },
    {
      "cell_type": "markdown",
      "source": [
        "* Using `np.zeros()`, create an array of zeros that has three rows and two columns; call it `zero_array`.\n",
        "\n",
        "* Print the data type of `zero_array`.\n",
        "\n",
        "\n",
        "* Create a new array of zeros called `zero_int_array`, which will also have three rows and two columns, but the data type should be `np.int32`.\n",
        "\n",
        "* Print the data type of `zero_int_array`."
      ],
      "metadata": {
        "id": "wcupkMxlzJjc"
      }
    },
    {
      "cell_type": "code",
      "source": [
        "# Create an array of zeros with three rows and two columns\n",
        "zero_array = np.zeros((3,2))\n",
        "\n",
        "# Print the data type of zero_array\n",
        "print(zero_array.dtype)\n",
        "\n",
        "# Create a new array of int32 zeros with three rows and two columns\n",
        "zero_int_array = np.zeros((3,2), dtype = np.int32)\n",
        "\n",
        "# Print the data type of zero_int_array\n",
        "print(zero_int_array.dtype)"
      ],
      "metadata": {
        "id": "GVH4vXmAy3hz",
        "colab": {
          "base_uri": "https://localhost:8080/"
        },
        "outputId": "0bcfb2d4-1f7b-431c-e3c4-5885e5cbd74a"
      },
      "execution_count": 44,
      "outputs": [
        {
          "output_type": "stream",
          "name": "stdout",
          "text": [
            "float64\n",
            "int32\n"
          ]
        }
      ]
    },
    {
      "cell_type": "markdown",
      "source": [
        "###Anticipating data types\n",
        "Anticipating what data type an array will have is very important since some NumPy functionality only works with certain data types. Let’s see what you’ve got.\n",
        "\n",
        "* For each of the given code snippets, determine which data type the resulting array will have by dragging the snippet to the proper box.\n",
        "\n",
        "A string data type\n",
        "```\n",
        "np.array([78.988, \"NumPy\", True])\n",
        "np.array([9, 1.12, True]).astype(\"<U5\")\n",
        "```\n",
        "An integer data type\n",
        "```\n",
        "np.array([34.62, 70.13, 9]).astype(np.int64)\n",
        "np.array([45.67, True], dtype=np.int8)\n",
        "```\n",
        "A float data type\n",
        "```\n",
        "np.array([[6, 15.7], [True, False]])\n",
        "np.random.random((4, 5))\n",
        "```"
      ],
      "metadata": {
        "id": "8Zbg8L1UzoqJ"
      }
    },
    {
      "cell_type": "code",
      "source": [
        "np.array([[6, 15.7], [True, False]], dtype=\"int\")\n"
      ],
      "metadata": {
        "id": "W2v9CHlK97ek",
        "colab": {
          "base_uri": "https://localhost:8080/"
        },
        "outputId": "2d060f4e-931f-4d18-ab0e-59c2c7ebe9e1"
      },
      "execution_count": 45,
      "outputs": [
        {
          "output_type": "execute_result",
          "data": {
            "text/plain": [
              "array([[ 6, 15],\n",
              "       [ 1,  0]])"
            ]
          },
          "metadata": {},
          "execution_count": 45
        }
      ]
    },
    {
      "cell_type": "code",
      "source": [
        "np.array([[6, 15.7], [True, False]]).astype(\"int\")"
      ],
      "metadata": {
        "id": "ZGaYDebM-Y5_",
        "colab": {
          "base_uri": "https://localhost:8080/"
        },
        "outputId": "0d66e743-aa80-4b65-8497-bc12bbc56157"
      },
      "execution_count": 46,
      "outputs": [
        {
          "output_type": "execute_result",
          "data": {
            "text/plain": [
              "array([[ 6, 15],\n",
              "       [ 1,  0]])"
            ]
          },
          "metadata": {},
          "execution_count": 46
        }
      ]
    },
    {
      "cell_type": "code",
      "source": [
        "np.array([9, 1.12, True]).astype(\"<U5\")"
      ],
      "metadata": {
        "id": "jiVQnPQ99XU1",
        "colab": {
          "base_uri": "https://localhost:8080/"
        },
        "outputId": "ea3a9c93-2a2f-4513-cbb0-e8da39870e3b"
      },
      "execution_count": 47,
      "outputs": [
        {
          "output_type": "execute_result",
          "data": {
            "text/plain": [
              "array(['9.0', '1.12', '1.0'], dtype='<U5')"
            ]
          },
          "metadata": {},
          "execution_count": 47
        }
      ]
    },
    {
      "cell_type": "markdown",
      "source": [
        "###A smaller sudoku game\n",
        "NumPy data types, which emphasize speed, are more specific than Python data types, which emphasize flexibility. When working with large amounts of data in NumPy, it’s good practice to check the data type and consider whether a smaller data type is large enough for your data, since smaller data types use less memory.\n",
        "\n",
        "It’s time to make your sudoku game more memory-efficient using your knowledge of data types! `sudoku_game` has been loaded for you as a NumPy array. numpy is imported as np.\n",
        "\n",
        "* Print the data type of the elements in `sudoku_game`."
      ],
      "metadata": {
        "id": "mxGQemnl0VQq"
      }
    },
    {
      "cell_type": "code",
      "source": [
        "# Print the data type of sudoku_game\n",
        "print(type(sudoku_game))\n",
        "print(sudoku_game.dtype)"
      ],
      "metadata": {
        "id": "I0wdtGBG0pL7",
        "colab": {
          "base_uri": "https://localhost:8080/"
        },
        "outputId": "ba7bfc79-aaea-4e50-b4b8-8c0d23ea8a19"
      },
      "execution_count": 48,
      "outputs": [
        {
          "output_type": "stream",
          "name": "stdout",
          "text": [
            "<class 'numpy.ndarray'>\n",
            "int64\n"
          ]
        }
      ]
    },
    {
      "cell_type": "markdown",
      "source": [
        "The current data type of `sudoku_game` is `int64`.\n",
        "* Which of the following NumPy integers is the smallest bitsize that is still large enough to hold the data in `sudoku_game`?\n",
        "* If you have never played sudoku, know that sudoku games only ever store integers from one to nine.\n",
        "** np.int64\n",
        "** np.int32\n",
        "** np.int16\n",
        "** np.int8"
      ],
      "metadata": {
        "id": "AH_bplZn0pob"
      }
    },
    {
      "cell_type": "markdown",
      "source": [
        "Change the data type of `sudoku_game` to be `int8`, an 8-bit integer; name the new array `small_sudoku_game`.\n",
        "\n"
      ],
      "metadata": {
        "id": "laClVcMq1b8p"
      }
    },
    {
      "cell_type": "code",
      "source": [
        "small_sudoku_game = sudoku_game.astype(np.int8)\n",
        "print(small_sudoku_game.dtype)"
      ],
      "metadata": {
        "id": "H5xnK6cd1anH",
        "colab": {
          "base_uri": "https://localhost:8080/"
        },
        "outputId": "96a4124e-7988-48c1-a872-207fb5a813c1"
      },
      "execution_count": 49,
      "outputs": [
        {
          "output_type": "stream",
          "name": "stdout",
          "text": [
            "int8\n"
          ]
        }
      ]
    },
    {
      "cell_type": "markdown",
      "source": [
        "Print the data type of `small_sudoku_game` to be sure that your change to `int8` is reflected."
      ],
      "metadata": {
        "id": "TKGcd5iJ1gDa"
      }
    },
    {
      "cell_type": "code",
      "source": [
        "print(small_sudoku_game.dtype)"
      ],
      "metadata": {
        "id": "3SsRp_iT1m4U",
        "colab": {
          "base_uri": "https://localhost:8080/"
        },
        "outputId": "580b7389-eae9-451b-8aca-2178a0606698"
      },
      "execution_count": 50,
      "outputs": [
        {
          "output_type": "stream",
          "name": "stdout",
          "text": [
            "int8\n"
          ]
        }
      ]
    },
    {
      "cell_type": "markdown",
      "source": [
        "#Selecting and Updating Data\n",
        "Sharpen your NumPy data wrangling skills by slicing, filtering, and sorting New York City’s tree census data. Create new arrays by pulling data based on conditional statements, and add and remove data along any dimension to suit your purpose. Along the way, you’ll learn the shape and dimension compatibility principles to prepare for super-fast array math.\n",
        "\n",
        "##Indexing and slicing arrays\n",
        "###Slicing and indexing trees\n",
        "Imagine you are a researcher working with data from New York City’s tree census. Each row of the `tree_census` 2D array lists information for a different tree: the tree ID, block ID, trunk diameter, and stump diameter in that order. Living trees do not have stump diameters, which explains why there are so many zeros in that column. Column order is important because NumPy does not have column names! The first and last three rows of `tree_census` are shown below."
      ],
      "metadata": {
        "id": "01d7eVl11mIc"
      }
    },
    {
      "cell_type": "code",
      "source": [
        "import pandas as pd\n",
        "tree_census = pd.read_csv(\"/content/2015_Street_Tree_Census_-_Tree_Data.csv\")"
      ],
      "metadata": {
        "id": "qdIcqcE364JE"
      },
      "execution_count": 51,
      "outputs": []
    },
    {
      "cell_type": "code",
      "source": [
        "print(tree_census)"
      ],
      "metadata": {
        "id": "ZRUBHLURAhrB",
        "colab": {
          "base_uri": "https://localhost:8080/"
        },
        "outputId": "f9756564-5f39-47cc-99d5-1dd2e032dc5c"
      },
      "execution_count": 52,
      "outputs": [
        {
          "output_type": "stream",
          "name": "stdout",
          "text": [
            "        tree_id  block_id  created_at  tree_dbh  stump_diam        curb_loc  \\\n",
            "0        180683    348711  08/27/2015         3           0          OnCurb   \n",
            "1        200540    315986  09/03/2015        21           0          OnCurb   \n",
            "2        204026    218365  09/05/2015         3           0          OnCurb   \n",
            "3        204337    217969  09/05/2015        10           0          OnCurb   \n",
            "4        189565    223043  08/30/2015        21           0          OnCurb   \n",
            "...         ...       ...         ...       ...         ...             ...   \n",
            "107614   303305    107258  10/09/2015         3           0          OnCurb   \n",
            "107615   303306    107258  10/09/2015         8           0  OffsetFromCurb   \n",
            "107616   318882    205861  10/13/2015         5           0          OnCurb   \n",
            "107617   280510    410986  10/04/2015        23           0          OnCurb   \n",
            "107618   293560    101897  10/07/2015         6           0          OnCurb   \n",
            "\n",
            "       status health                           spc_latin       spc_common  \\\n",
            "0       Alive   Fair                         Acer rubrum        red maple   \n",
            "1       Alive   Fair                   Quercus palustris          pin oak   \n",
            "2       Alive   Good  Gleditsia triacanthos var. inermis      honeylocust   \n",
            "3       Alive   Good  Gleditsia triacanthos var. inermis      honeylocust   \n",
            "4       Alive   Good                     Tilia americana  American linden   \n",
            "...       ...    ...                                 ...              ...   \n",
            "107614  Alive   Poor  Gleditsia triacanthos var. inermis      honeylocust   \n",
            "107615  Alive   Good                       Ginkgo biloba           ginkgo   \n",
            "107616  Alive   Good  Gleditsia triacanthos var. inermis      honeylocust   \n",
            "107617  Alive   Good  Gleditsia triacanthos var. inermis      honeylocust   \n",
            "107618  Alive   Good                     Tilia americana  American linden   \n",
            "\n",
            "        ...    boro_ct     state   latitude  longitude          x_sp  \\\n",
            "0       ...  4073900.0  New York  40.723092 -73.844215  1.027431e+06   \n",
            "1       ...  4097300.0  New York  40.794111 -73.818679  1.034456e+06   \n",
            "2       ...  3044900.0  New York  40.717581 -73.936608  1.001823e+06   \n",
            "3       ...  3044900.0  New York  40.713537 -73.934456  1.002420e+06   \n",
            "4       ...  3016500.0  New York  40.666778 -73.975979  9.909138e+05   \n",
            "...     ...        ...       ...        ...        ...           ...   \n",
            "107614  ...  1011600.0  New York  40.764592 -73.956218  9.963781e+05   \n",
            "107615  ...  1011600.0  New York  40.764585 -73.956132  9.964021e+05   \n",
            "107616  ...  3043400.0  New York  40.608571 -73.977889  9.903893e+05   \n",
            "107617  ...  5015603.0  New York  40.532623 -74.152805  9.417739e+05   \n",
            "107618  ...        NaN       NaN        NaN        NaN           NaN   \n",
            "\n",
            "               y_sp council district census tract        bin           bbl  \n",
            "0       202756.7687             29.0        739.0  4052307.0  4.022210e+09  \n",
            "1       228644.8374             19.0        973.0  4101931.0  4.044750e+09  \n",
            "2       200716.8913             34.0        449.0  3338310.0  3.028870e+09  \n",
            "3       199244.2531             34.0        449.0  3338342.0  3.029250e+09  \n",
            "4       182202.4260             39.0        165.0  3025654.0  3.010850e+09  \n",
            "...             ...              ...          ...        ...           ...  \n",
            "107614  217841.2835              5.0        116.0  1045576.0  1.014630e+09  \n",
            "107615  217838.8341              5.0        116.0  1045576.0  1.014630e+09  \n",
            "107616  160996.0370             44.0        434.0  3174547.0  3.066030e+09  \n",
            "107617  133362.6697             51.0      15603.0  5070009.0  5.054110e+09  \n",
            "107618          NaN              NaN          NaN        NaN           NaN  \n",
            "\n",
            "[107619 rows x 45 columns]\n"
          ]
        }
      ]
    },
    {
      "cell_type": "code",
      "source": [
        "tree_census = pd.DataFrame(tree_census)"
      ],
      "metadata": {
        "id": "ucJ2H1lK7dtE"
      },
      "execution_count": 53,
      "outputs": []
    },
    {
      "cell_type": "code",
      "source": [
        "tree_census.head()"
      ],
      "metadata": {
        "id": "teqvdIby80xN",
        "colab": {
          "base_uri": "https://localhost:8080/",
          "height": 429
        },
        "outputId": "13387772-9bde-48d0-d91f-08540216daab"
      },
      "execution_count": 54,
      "outputs": [
        {
          "output_type": "execute_result",
          "data": {
            "text/plain": [
              "   tree_id  block_id  created_at  tree_dbh  stump_diam curb_loc status health  \\\n",
              "0   180683    348711  08/27/2015         3           0   OnCurb  Alive   Fair   \n",
              "1   200540    315986  09/03/2015        21           0   OnCurb  Alive   Fair   \n",
              "2   204026    218365  09/05/2015         3           0   OnCurb  Alive   Good   \n",
              "3   204337    217969  09/05/2015        10           0   OnCurb  Alive   Good   \n",
              "4   189565    223043  08/30/2015        21           0   OnCurb  Alive   Good   \n",
              "\n",
              "                            spc_latin       spc_common  ...    boro_ct  \\\n",
              "0                         Acer rubrum        red maple  ...  4073900.0   \n",
              "1                   Quercus palustris          pin oak  ...  4097300.0   \n",
              "2  Gleditsia triacanthos var. inermis      honeylocust  ...  3044900.0   \n",
              "3  Gleditsia triacanthos var. inermis      honeylocust  ...  3044900.0   \n",
              "4                     Tilia americana  American linden  ...  3016500.0   \n",
              "\n",
              "      state   latitude  longitude         x_sp         y_sp council district  \\\n",
              "0  New York  40.723092 -73.844215  1027431.148  202756.7687             29.0   \n",
              "1  New York  40.794111 -73.818679  1034455.701  228644.8374             19.0   \n",
              "2  New York  40.717581 -73.936608  1001822.831  200716.8913             34.0   \n",
              "3  New York  40.713537 -73.934456  1002420.358  199244.2531             34.0   \n",
              "4  New York  40.666778 -73.975979   990913.775  182202.4260             39.0   \n",
              "\n",
              "  census tract        bin           bbl  \n",
              "0        739.0  4052307.0  4.022210e+09  \n",
              "1        973.0  4101931.0  4.044750e+09  \n",
              "2        449.0  3338310.0  3.028870e+09  \n",
              "3        449.0  3338342.0  3.029250e+09  \n",
              "4        165.0  3025654.0  3.010850e+09  \n",
              "\n",
              "[5 rows x 45 columns]"
            ],
            "text/html": [
              "\n",
              "  <div id=\"df-bdf4e772-9007-41bd-bba8-294a91895949\" class=\"colab-df-container\">\n",
              "    <div>\n",
              "<style scoped>\n",
              "    .dataframe tbody tr th:only-of-type {\n",
              "        vertical-align: middle;\n",
              "    }\n",
              "\n",
              "    .dataframe tbody tr th {\n",
              "        vertical-align: top;\n",
              "    }\n",
              "\n",
              "    .dataframe thead th {\n",
              "        text-align: right;\n",
              "    }\n",
              "</style>\n",
              "<table border=\"1\" class=\"dataframe\">\n",
              "  <thead>\n",
              "    <tr style=\"text-align: right;\">\n",
              "      <th></th>\n",
              "      <th>tree_id</th>\n",
              "      <th>block_id</th>\n",
              "      <th>created_at</th>\n",
              "      <th>tree_dbh</th>\n",
              "      <th>stump_diam</th>\n",
              "      <th>curb_loc</th>\n",
              "      <th>status</th>\n",
              "      <th>health</th>\n",
              "      <th>spc_latin</th>\n",
              "      <th>spc_common</th>\n",
              "      <th>...</th>\n",
              "      <th>boro_ct</th>\n",
              "      <th>state</th>\n",
              "      <th>latitude</th>\n",
              "      <th>longitude</th>\n",
              "      <th>x_sp</th>\n",
              "      <th>y_sp</th>\n",
              "      <th>council district</th>\n",
              "      <th>census tract</th>\n",
              "      <th>bin</th>\n",
              "      <th>bbl</th>\n",
              "    </tr>\n",
              "  </thead>\n",
              "  <tbody>\n",
              "    <tr>\n",
              "      <th>0</th>\n",
              "      <td>180683</td>\n",
              "      <td>348711</td>\n",
              "      <td>08/27/2015</td>\n",
              "      <td>3</td>\n",
              "      <td>0</td>\n",
              "      <td>OnCurb</td>\n",
              "      <td>Alive</td>\n",
              "      <td>Fair</td>\n",
              "      <td>Acer rubrum</td>\n",
              "      <td>red maple</td>\n",
              "      <td>...</td>\n",
              "      <td>4073900.0</td>\n",
              "      <td>New York</td>\n",
              "      <td>40.723092</td>\n",
              "      <td>-73.844215</td>\n",
              "      <td>1027431.148</td>\n",
              "      <td>202756.7687</td>\n",
              "      <td>29.0</td>\n",
              "      <td>739.0</td>\n",
              "      <td>4052307.0</td>\n",
              "      <td>4.022210e+09</td>\n",
              "    </tr>\n",
              "    <tr>\n",
              "      <th>1</th>\n",
              "      <td>200540</td>\n",
              "      <td>315986</td>\n",
              "      <td>09/03/2015</td>\n",
              "      <td>21</td>\n",
              "      <td>0</td>\n",
              "      <td>OnCurb</td>\n",
              "      <td>Alive</td>\n",
              "      <td>Fair</td>\n",
              "      <td>Quercus palustris</td>\n",
              "      <td>pin oak</td>\n",
              "      <td>...</td>\n",
              "      <td>4097300.0</td>\n",
              "      <td>New York</td>\n",
              "      <td>40.794111</td>\n",
              "      <td>-73.818679</td>\n",
              "      <td>1034455.701</td>\n",
              "      <td>228644.8374</td>\n",
              "      <td>19.0</td>\n",
              "      <td>973.0</td>\n",
              "      <td>4101931.0</td>\n",
              "      <td>4.044750e+09</td>\n",
              "    </tr>\n",
              "    <tr>\n",
              "      <th>2</th>\n",
              "      <td>204026</td>\n",
              "      <td>218365</td>\n",
              "      <td>09/05/2015</td>\n",
              "      <td>3</td>\n",
              "      <td>0</td>\n",
              "      <td>OnCurb</td>\n",
              "      <td>Alive</td>\n",
              "      <td>Good</td>\n",
              "      <td>Gleditsia triacanthos var. inermis</td>\n",
              "      <td>honeylocust</td>\n",
              "      <td>...</td>\n",
              "      <td>3044900.0</td>\n",
              "      <td>New York</td>\n",
              "      <td>40.717581</td>\n",
              "      <td>-73.936608</td>\n",
              "      <td>1001822.831</td>\n",
              "      <td>200716.8913</td>\n",
              "      <td>34.0</td>\n",
              "      <td>449.0</td>\n",
              "      <td>3338310.0</td>\n",
              "      <td>3.028870e+09</td>\n",
              "    </tr>\n",
              "    <tr>\n",
              "      <th>3</th>\n",
              "      <td>204337</td>\n",
              "      <td>217969</td>\n",
              "      <td>09/05/2015</td>\n",
              "      <td>10</td>\n",
              "      <td>0</td>\n",
              "      <td>OnCurb</td>\n",
              "      <td>Alive</td>\n",
              "      <td>Good</td>\n",
              "      <td>Gleditsia triacanthos var. inermis</td>\n",
              "      <td>honeylocust</td>\n",
              "      <td>...</td>\n",
              "      <td>3044900.0</td>\n",
              "      <td>New York</td>\n",
              "      <td>40.713537</td>\n",
              "      <td>-73.934456</td>\n",
              "      <td>1002420.358</td>\n",
              "      <td>199244.2531</td>\n",
              "      <td>34.0</td>\n",
              "      <td>449.0</td>\n",
              "      <td>3338342.0</td>\n",
              "      <td>3.029250e+09</td>\n",
              "    </tr>\n",
              "    <tr>\n",
              "      <th>4</th>\n",
              "      <td>189565</td>\n",
              "      <td>223043</td>\n",
              "      <td>08/30/2015</td>\n",
              "      <td>21</td>\n",
              "      <td>0</td>\n",
              "      <td>OnCurb</td>\n",
              "      <td>Alive</td>\n",
              "      <td>Good</td>\n",
              "      <td>Tilia americana</td>\n",
              "      <td>American linden</td>\n",
              "      <td>...</td>\n",
              "      <td>3016500.0</td>\n",
              "      <td>New York</td>\n",
              "      <td>40.666778</td>\n",
              "      <td>-73.975979</td>\n",
              "      <td>990913.775</td>\n",
              "      <td>182202.4260</td>\n",
              "      <td>39.0</td>\n",
              "      <td>165.0</td>\n",
              "      <td>3025654.0</td>\n",
              "      <td>3.010850e+09</td>\n",
              "    </tr>\n",
              "  </tbody>\n",
              "</table>\n",
              "<p>5 rows × 45 columns</p>\n",
              "</div>\n",
              "    <div class=\"colab-df-buttons\">\n",
              "\n",
              "  <div class=\"colab-df-container\">\n",
              "    <button class=\"colab-df-convert\" onclick=\"convertToInteractive('df-bdf4e772-9007-41bd-bba8-294a91895949')\"\n",
              "            title=\"Convert this dataframe to an interactive table.\"\n",
              "            style=\"display:none;\">\n",
              "\n",
              "  <svg xmlns=\"http://www.w3.org/2000/svg\" height=\"24px\" viewBox=\"0 -960 960 960\">\n",
              "    <path d=\"M120-120v-720h720v720H120Zm60-500h600v-160H180v160Zm220 220h160v-160H400v160Zm0 220h160v-160H400v160ZM180-400h160v-160H180v160Zm440 0h160v-160H620v160ZM180-180h160v-160H180v160Zm440 0h160v-160H620v160Z\"/>\n",
              "  </svg>\n",
              "    </button>\n",
              "\n",
              "  <style>\n",
              "    .colab-df-container {\n",
              "      display:flex;\n",
              "      gap: 12px;\n",
              "    }\n",
              "\n",
              "    .colab-df-convert {\n",
              "      background-color: #E8F0FE;\n",
              "      border: none;\n",
              "      border-radius: 50%;\n",
              "      cursor: pointer;\n",
              "      display: none;\n",
              "      fill: #1967D2;\n",
              "      height: 32px;\n",
              "      padding: 0 0 0 0;\n",
              "      width: 32px;\n",
              "    }\n",
              "\n",
              "    .colab-df-convert:hover {\n",
              "      background-color: #E2EBFA;\n",
              "      box-shadow: 0px 1px 2px rgba(60, 64, 67, 0.3), 0px 1px 3px 1px rgba(60, 64, 67, 0.15);\n",
              "      fill: #174EA6;\n",
              "    }\n",
              "\n",
              "    .colab-df-buttons div {\n",
              "      margin-bottom: 4px;\n",
              "    }\n",
              "\n",
              "    [theme=dark] .colab-df-convert {\n",
              "      background-color: #3B4455;\n",
              "      fill: #D2E3FC;\n",
              "    }\n",
              "\n",
              "    [theme=dark] .colab-df-convert:hover {\n",
              "      background-color: #434B5C;\n",
              "      box-shadow: 0px 1px 3px 1px rgba(0, 0, 0, 0.15);\n",
              "      filter: drop-shadow(0px 1px 2px rgba(0, 0, 0, 0.3));\n",
              "      fill: #FFFFFF;\n",
              "    }\n",
              "  </style>\n",
              "\n",
              "    <script>\n",
              "      const buttonEl =\n",
              "        document.querySelector('#df-bdf4e772-9007-41bd-bba8-294a91895949 button.colab-df-convert');\n",
              "      buttonEl.style.display =\n",
              "        google.colab.kernel.accessAllowed ? 'block' : 'none';\n",
              "\n",
              "      async function convertToInteractive(key) {\n",
              "        const element = document.querySelector('#df-bdf4e772-9007-41bd-bba8-294a91895949');\n",
              "        const dataTable =\n",
              "          await google.colab.kernel.invokeFunction('convertToInteractive',\n",
              "                                                    [key], {});\n",
              "        if (!dataTable) return;\n",
              "\n",
              "        const docLinkHtml = 'Like what you see? Visit the ' +\n",
              "          '<a target=\"_blank\" href=https://colab.research.google.com/notebooks/data_table.ipynb>data table notebook</a>'\n",
              "          + ' to learn more about interactive tables.';\n",
              "        element.innerHTML = '';\n",
              "        dataTable['output_type'] = 'display_data';\n",
              "        await google.colab.output.renderOutput(dataTable, element);\n",
              "        const docLink = document.createElement('div');\n",
              "        docLink.innerHTML = docLinkHtml;\n",
              "        element.appendChild(docLink);\n",
              "      }\n",
              "    </script>\n",
              "  </div>\n",
              "\n",
              "\n",
              "    <div id=\"df-4eafffbd-d41f-41be-b353-7f756c7ff656\">\n",
              "      <button class=\"colab-df-quickchart\" onclick=\"quickchart('df-4eafffbd-d41f-41be-b353-7f756c7ff656')\"\n",
              "                title=\"Suggest charts\"\n",
              "                style=\"display:none;\">\n",
              "\n",
              "<svg xmlns=\"http://www.w3.org/2000/svg\" height=\"24px\"viewBox=\"0 0 24 24\"\n",
              "     width=\"24px\">\n",
              "    <g>\n",
              "        <path d=\"M19 3H5c-1.1 0-2 .9-2 2v14c0 1.1.9 2 2 2h14c1.1 0 2-.9 2-2V5c0-1.1-.9-2-2-2zM9 17H7v-7h2v7zm4 0h-2V7h2v10zm4 0h-2v-4h2v4z\"/>\n",
              "    </g>\n",
              "</svg>\n",
              "      </button>\n",
              "\n",
              "<style>\n",
              "  .colab-df-quickchart {\n",
              "      --bg-color: #E8F0FE;\n",
              "      --fill-color: #1967D2;\n",
              "      --hover-bg-color: #E2EBFA;\n",
              "      --hover-fill-color: #174EA6;\n",
              "      --disabled-fill-color: #AAA;\n",
              "      --disabled-bg-color: #DDD;\n",
              "  }\n",
              "\n",
              "  [theme=dark] .colab-df-quickchart {\n",
              "      --bg-color: #3B4455;\n",
              "      --fill-color: #D2E3FC;\n",
              "      --hover-bg-color: #434B5C;\n",
              "      --hover-fill-color: #FFFFFF;\n",
              "      --disabled-bg-color: #3B4455;\n",
              "      --disabled-fill-color: #666;\n",
              "  }\n",
              "\n",
              "  .colab-df-quickchart {\n",
              "    background-color: var(--bg-color);\n",
              "    border: none;\n",
              "    border-radius: 50%;\n",
              "    cursor: pointer;\n",
              "    display: none;\n",
              "    fill: var(--fill-color);\n",
              "    height: 32px;\n",
              "    padding: 0;\n",
              "    width: 32px;\n",
              "  }\n",
              "\n",
              "  .colab-df-quickchart:hover {\n",
              "    background-color: var(--hover-bg-color);\n",
              "    box-shadow: 0 1px 2px rgba(60, 64, 67, 0.3), 0 1px 3px 1px rgba(60, 64, 67, 0.15);\n",
              "    fill: var(--button-hover-fill-color);\n",
              "  }\n",
              "\n",
              "  .colab-df-quickchart-complete:disabled,\n",
              "  .colab-df-quickchart-complete:disabled:hover {\n",
              "    background-color: var(--disabled-bg-color);\n",
              "    fill: var(--disabled-fill-color);\n",
              "    box-shadow: none;\n",
              "  }\n",
              "\n",
              "  .colab-df-spinner {\n",
              "    border: 2px solid var(--fill-color);\n",
              "    border-color: transparent;\n",
              "    border-bottom-color: var(--fill-color);\n",
              "    animation:\n",
              "      spin 1s steps(1) infinite;\n",
              "  }\n",
              "\n",
              "  @keyframes spin {\n",
              "    0% {\n",
              "      border-color: transparent;\n",
              "      border-bottom-color: var(--fill-color);\n",
              "      border-left-color: var(--fill-color);\n",
              "    }\n",
              "    20% {\n",
              "      border-color: transparent;\n",
              "      border-left-color: var(--fill-color);\n",
              "      border-top-color: var(--fill-color);\n",
              "    }\n",
              "    30% {\n",
              "      border-color: transparent;\n",
              "      border-left-color: var(--fill-color);\n",
              "      border-top-color: var(--fill-color);\n",
              "      border-right-color: var(--fill-color);\n",
              "    }\n",
              "    40% {\n",
              "      border-color: transparent;\n",
              "      border-right-color: var(--fill-color);\n",
              "      border-top-color: var(--fill-color);\n",
              "    }\n",
              "    60% {\n",
              "      border-color: transparent;\n",
              "      border-right-color: var(--fill-color);\n",
              "    }\n",
              "    80% {\n",
              "      border-color: transparent;\n",
              "      border-right-color: var(--fill-color);\n",
              "      border-bottom-color: var(--fill-color);\n",
              "    }\n",
              "    90% {\n",
              "      border-color: transparent;\n",
              "      border-bottom-color: var(--fill-color);\n",
              "    }\n",
              "  }\n",
              "</style>\n",
              "\n",
              "      <script>\n",
              "        async function quickchart(key) {\n",
              "          const quickchartButtonEl =\n",
              "            document.querySelector('#' + key + ' button');\n",
              "          quickchartButtonEl.disabled = true;  // To prevent multiple clicks.\n",
              "          quickchartButtonEl.classList.add('colab-df-spinner');\n",
              "          try {\n",
              "            const charts = await google.colab.kernel.invokeFunction(\n",
              "                'suggestCharts', [key], {});\n",
              "          } catch (error) {\n",
              "            console.error('Error during call to suggestCharts:', error);\n",
              "          }\n",
              "          quickchartButtonEl.classList.remove('colab-df-spinner');\n",
              "          quickchartButtonEl.classList.add('colab-df-quickchart-complete');\n",
              "        }\n",
              "        (() => {\n",
              "          let quickchartButtonEl =\n",
              "            document.querySelector('#df-4eafffbd-d41f-41be-b353-7f756c7ff656 button');\n",
              "          quickchartButtonEl.style.display =\n",
              "            google.colab.kernel.accessAllowed ? 'block' : 'none';\n",
              "        })();\n",
              "      </script>\n",
              "    </div>\n",
              "\n",
              "    </div>\n",
              "  </div>\n"
            ],
            "application/vnd.google.colaboratory.intrinsic+json": {
              "type": "dataframe",
              "variable_name": "tree_census"
            }
          },
          "metadata": {},
          "execution_count": 54
        }
      ]
    },
    {
      "cell_type": "code",
      "source": [
        "tree_census = tree_census[[\"tree_id\",\"block_id\",\"tree_dbh\",\"stump_diam\"]]"
      ],
      "metadata": {
        "id": "lsbOCxlD8XKS"
      },
      "execution_count": 55,
      "outputs": []
    },
    {
      "cell_type": "code",
      "source": [
        "tree_census.head()"
      ],
      "metadata": {
        "id": "-sPZvWBG8_dH",
        "colab": {
          "base_uri": "https://localhost:8080/",
          "height": 206
        },
        "outputId": "22b46e20-bc48-47bc-ce59-97b111181265"
      },
      "execution_count": 56,
      "outputs": [
        {
          "output_type": "execute_result",
          "data": {
            "text/plain": [
              "   tree_id  block_id  tree_dbh  stump_diam\n",
              "0   180683    348711         3           0\n",
              "1   200540    315986        21           0\n",
              "2   204026    218365         3           0\n",
              "3   204337    217969        10           0\n",
              "4   189565    223043        21           0"
            ],
            "text/html": [
              "\n",
              "  <div id=\"df-15b2acbb-9b9f-4692-9292-f07982d9faf0\" class=\"colab-df-container\">\n",
              "    <div>\n",
              "<style scoped>\n",
              "    .dataframe tbody tr th:only-of-type {\n",
              "        vertical-align: middle;\n",
              "    }\n",
              "\n",
              "    .dataframe tbody tr th {\n",
              "        vertical-align: top;\n",
              "    }\n",
              "\n",
              "    .dataframe thead th {\n",
              "        text-align: right;\n",
              "    }\n",
              "</style>\n",
              "<table border=\"1\" class=\"dataframe\">\n",
              "  <thead>\n",
              "    <tr style=\"text-align: right;\">\n",
              "      <th></th>\n",
              "      <th>tree_id</th>\n",
              "      <th>block_id</th>\n",
              "      <th>tree_dbh</th>\n",
              "      <th>stump_diam</th>\n",
              "    </tr>\n",
              "  </thead>\n",
              "  <tbody>\n",
              "    <tr>\n",
              "      <th>0</th>\n",
              "      <td>180683</td>\n",
              "      <td>348711</td>\n",
              "      <td>3</td>\n",
              "      <td>0</td>\n",
              "    </tr>\n",
              "    <tr>\n",
              "      <th>1</th>\n",
              "      <td>200540</td>\n",
              "      <td>315986</td>\n",
              "      <td>21</td>\n",
              "      <td>0</td>\n",
              "    </tr>\n",
              "    <tr>\n",
              "      <th>2</th>\n",
              "      <td>204026</td>\n",
              "      <td>218365</td>\n",
              "      <td>3</td>\n",
              "      <td>0</td>\n",
              "    </tr>\n",
              "    <tr>\n",
              "      <th>3</th>\n",
              "      <td>204337</td>\n",
              "      <td>217969</td>\n",
              "      <td>10</td>\n",
              "      <td>0</td>\n",
              "    </tr>\n",
              "    <tr>\n",
              "      <th>4</th>\n",
              "      <td>189565</td>\n",
              "      <td>223043</td>\n",
              "      <td>21</td>\n",
              "      <td>0</td>\n",
              "    </tr>\n",
              "  </tbody>\n",
              "</table>\n",
              "</div>\n",
              "    <div class=\"colab-df-buttons\">\n",
              "\n",
              "  <div class=\"colab-df-container\">\n",
              "    <button class=\"colab-df-convert\" onclick=\"convertToInteractive('df-15b2acbb-9b9f-4692-9292-f07982d9faf0')\"\n",
              "            title=\"Convert this dataframe to an interactive table.\"\n",
              "            style=\"display:none;\">\n",
              "\n",
              "  <svg xmlns=\"http://www.w3.org/2000/svg\" height=\"24px\" viewBox=\"0 -960 960 960\">\n",
              "    <path d=\"M120-120v-720h720v720H120Zm60-500h600v-160H180v160Zm220 220h160v-160H400v160Zm0 220h160v-160H400v160ZM180-400h160v-160H180v160Zm440 0h160v-160H620v160ZM180-180h160v-160H180v160Zm440 0h160v-160H620v160Z\"/>\n",
              "  </svg>\n",
              "    </button>\n",
              "\n",
              "  <style>\n",
              "    .colab-df-container {\n",
              "      display:flex;\n",
              "      gap: 12px;\n",
              "    }\n",
              "\n",
              "    .colab-df-convert {\n",
              "      background-color: #E8F0FE;\n",
              "      border: none;\n",
              "      border-radius: 50%;\n",
              "      cursor: pointer;\n",
              "      display: none;\n",
              "      fill: #1967D2;\n",
              "      height: 32px;\n",
              "      padding: 0 0 0 0;\n",
              "      width: 32px;\n",
              "    }\n",
              "\n",
              "    .colab-df-convert:hover {\n",
              "      background-color: #E2EBFA;\n",
              "      box-shadow: 0px 1px 2px rgba(60, 64, 67, 0.3), 0px 1px 3px 1px rgba(60, 64, 67, 0.15);\n",
              "      fill: #174EA6;\n",
              "    }\n",
              "\n",
              "    .colab-df-buttons div {\n",
              "      margin-bottom: 4px;\n",
              "    }\n",
              "\n",
              "    [theme=dark] .colab-df-convert {\n",
              "      background-color: #3B4455;\n",
              "      fill: #D2E3FC;\n",
              "    }\n",
              "\n",
              "    [theme=dark] .colab-df-convert:hover {\n",
              "      background-color: #434B5C;\n",
              "      box-shadow: 0px 1px 3px 1px rgba(0, 0, 0, 0.15);\n",
              "      filter: drop-shadow(0px 1px 2px rgba(0, 0, 0, 0.3));\n",
              "      fill: #FFFFFF;\n",
              "    }\n",
              "  </style>\n",
              "\n",
              "    <script>\n",
              "      const buttonEl =\n",
              "        document.querySelector('#df-15b2acbb-9b9f-4692-9292-f07982d9faf0 button.colab-df-convert');\n",
              "      buttonEl.style.display =\n",
              "        google.colab.kernel.accessAllowed ? 'block' : 'none';\n",
              "\n",
              "      async function convertToInteractive(key) {\n",
              "        const element = document.querySelector('#df-15b2acbb-9b9f-4692-9292-f07982d9faf0');\n",
              "        const dataTable =\n",
              "          await google.colab.kernel.invokeFunction('convertToInteractive',\n",
              "                                                    [key], {});\n",
              "        if (!dataTable) return;\n",
              "\n",
              "        const docLinkHtml = 'Like what you see? Visit the ' +\n",
              "          '<a target=\"_blank\" href=https://colab.research.google.com/notebooks/data_table.ipynb>data table notebook</a>'\n",
              "          + ' to learn more about interactive tables.';\n",
              "        element.innerHTML = '';\n",
              "        dataTable['output_type'] = 'display_data';\n",
              "        await google.colab.output.renderOutput(dataTable, element);\n",
              "        const docLink = document.createElement('div');\n",
              "        docLink.innerHTML = docLinkHtml;\n",
              "        element.appendChild(docLink);\n",
              "      }\n",
              "    </script>\n",
              "  </div>\n",
              "\n",
              "\n",
              "    <div id=\"df-dfcccb49-4b01-4a7d-ab84-73bd454bb532\">\n",
              "      <button class=\"colab-df-quickchart\" onclick=\"quickchart('df-dfcccb49-4b01-4a7d-ab84-73bd454bb532')\"\n",
              "                title=\"Suggest charts\"\n",
              "                style=\"display:none;\">\n",
              "\n",
              "<svg xmlns=\"http://www.w3.org/2000/svg\" height=\"24px\"viewBox=\"0 0 24 24\"\n",
              "     width=\"24px\">\n",
              "    <g>\n",
              "        <path d=\"M19 3H5c-1.1 0-2 .9-2 2v14c0 1.1.9 2 2 2h14c1.1 0 2-.9 2-2V5c0-1.1-.9-2-2-2zM9 17H7v-7h2v7zm4 0h-2V7h2v10zm4 0h-2v-4h2v4z\"/>\n",
              "    </g>\n",
              "</svg>\n",
              "      </button>\n",
              "\n",
              "<style>\n",
              "  .colab-df-quickchart {\n",
              "      --bg-color: #E8F0FE;\n",
              "      --fill-color: #1967D2;\n",
              "      --hover-bg-color: #E2EBFA;\n",
              "      --hover-fill-color: #174EA6;\n",
              "      --disabled-fill-color: #AAA;\n",
              "      --disabled-bg-color: #DDD;\n",
              "  }\n",
              "\n",
              "  [theme=dark] .colab-df-quickchart {\n",
              "      --bg-color: #3B4455;\n",
              "      --fill-color: #D2E3FC;\n",
              "      --hover-bg-color: #434B5C;\n",
              "      --hover-fill-color: #FFFFFF;\n",
              "      --disabled-bg-color: #3B4455;\n",
              "      --disabled-fill-color: #666;\n",
              "  }\n",
              "\n",
              "  .colab-df-quickchart {\n",
              "    background-color: var(--bg-color);\n",
              "    border: none;\n",
              "    border-radius: 50%;\n",
              "    cursor: pointer;\n",
              "    display: none;\n",
              "    fill: var(--fill-color);\n",
              "    height: 32px;\n",
              "    padding: 0;\n",
              "    width: 32px;\n",
              "  }\n",
              "\n",
              "  .colab-df-quickchart:hover {\n",
              "    background-color: var(--hover-bg-color);\n",
              "    box-shadow: 0 1px 2px rgba(60, 64, 67, 0.3), 0 1px 3px 1px rgba(60, 64, 67, 0.15);\n",
              "    fill: var(--button-hover-fill-color);\n",
              "  }\n",
              "\n",
              "  .colab-df-quickchart-complete:disabled,\n",
              "  .colab-df-quickchart-complete:disabled:hover {\n",
              "    background-color: var(--disabled-bg-color);\n",
              "    fill: var(--disabled-fill-color);\n",
              "    box-shadow: none;\n",
              "  }\n",
              "\n",
              "  .colab-df-spinner {\n",
              "    border: 2px solid var(--fill-color);\n",
              "    border-color: transparent;\n",
              "    border-bottom-color: var(--fill-color);\n",
              "    animation:\n",
              "      spin 1s steps(1) infinite;\n",
              "  }\n",
              "\n",
              "  @keyframes spin {\n",
              "    0% {\n",
              "      border-color: transparent;\n",
              "      border-bottom-color: var(--fill-color);\n",
              "      border-left-color: var(--fill-color);\n",
              "    }\n",
              "    20% {\n",
              "      border-color: transparent;\n",
              "      border-left-color: var(--fill-color);\n",
              "      border-top-color: var(--fill-color);\n",
              "    }\n",
              "    30% {\n",
              "      border-color: transparent;\n",
              "      border-left-color: var(--fill-color);\n",
              "      border-top-color: var(--fill-color);\n",
              "      border-right-color: var(--fill-color);\n",
              "    }\n",
              "    40% {\n",
              "      border-color: transparent;\n",
              "      border-right-color: var(--fill-color);\n",
              "      border-top-color: var(--fill-color);\n",
              "    }\n",
              "    60% {\n",
              "      border-color: transparent;\n",
              "      border-right-color: var(--fill-color);\n",
              "    }\n",
              "    80% {\n",
              "      border-color: transparent;\n",
              "      border-right-color: var(--fill-color);\n",
              "      border-bottom-color: var(--fill-color);\n",
              "    }\n",
              "    90% {\n",
              "      border-color: transparent;\n",
              "      border-bottom-color: var(--fill-color);\n",
              "    }\n",
              "  }\n",
              "</style>\n",
              "\n",
              "      <script>\n",
              "        async function quickchart(key) {\n",
              "          const quickchartButtonEl =\n",
              "            document.querySelector('#' + key + ' button');\n",
              "          quickchartButtonEl.disabled = true;  // To prevent multiple clicks.\n",
              "          quickchartButtonEl.classList.add('colab-df-spinner');\n",
              "          try {\n",
              "            const charts = await google.colab.kernel.invokeFunction(\n",
              "                'suggestCharts', [key], {});\n",
              "          } catch (error) {\n",
              "            console.error('Error during call to suggestCharts:', error);\n",
              "          }\n",
              "          quickchartButtonEl.classList.remove('colab-df-spinner');\n",
              "          quickchartButtonEl.classList.add('colab-df-quickchart-complete');\n",
              "        }\n",
              "        (() => {\n",
              "          let quickchartButtonEl =\n",
              "            document.querySelector('#df-dfcccb49-4b01-4a7d-ab84-73bd454bb532 button');\n",
              "          quickchartButtonEl.style.display =\n",
              "            google.colab.kernel.accessAllowed ? 'block' : 'none';\n",
              "        })();\n",
              "      </script>\n",
              "    </div>\n",
              "\n",
              "    </div>\n",
              "  </div>\n"
            ],
            "application/vnd.google.colaboratory.intrinsic+json": {
              "type": "dataframe",
              "variable_name": "tree_census"
            }
          },
          "metadata": {},
          "execution_count": 56
        }
      ]
    },
    {
      "cell_type": "code",
      "source": [
        "tree_census = np.array(tree_census)"
      ],
      "metadata": {
        "id": "_kS9JSAw9ClP"
      },
      "execution_count": 57,
      "outputs": []
    },
    {
      "cell_type": "code",
      "source": [
        "print(tree_census)"
      ],
      "metadata": {
        "id": "yIGzO7079HUH",
        "colab": {
          "base_uri": "https://localhost:8080/"
        },
        "outputId": "7ec7ee15-fc3d-476c-d875-cf986f863874"
      },
      "execution_count": 58,
      "outputs": [
        {
          "output_type": "stream",
          "name": "stdout",
          "text": [
            "[[180683 348711      3      0]\n",
            " [200540 315986     21      0]\n",
            " [204026 218365      3      0]\n",
            " ...\n",
            " [318882 205861      5      0]\n",
            " [280510 410986     23      0]\n",
            " [293560 101897      6      0]]\n"
          ]
        }
      ]
    },
    {
      "cell_type": "markdown",
      "source": [
        "In this exercise, you’ll be working specifically with the second column, representing block IDs: your research requires you to select specific city blocks for further analysis using NumPy slicing and indexing. `numpy` is loaded as `np`, and the `tree_census` 2D array is available."
      ],
      "metadata": {
        "id": "FjOrqD3l9pAR"
      }
    },
    {
      "cell_type": "markdown",
      "source": [
        "* Select all rows of data from the second column, representing block IDs; save the resulting array as `block_ids`."
      ],
      "metadata": {
        "id": "1NbIMDye9z1z"
      }
    },
    {
      "cell_type": "code",
      "source": [
        "# Select all rows of block ID data from the second column\n",
        "block_ids = tree_census[:,1]\n",
        "print(block_ids)"
      ],
      "metadata": {
        "id": "NcN-0e-_1500",
        "colab": {
          "base_uri": "https://localhost:8080/"
        },
        "outputId": "1aec86ef-4084-4d67-fd63-fc05ea2d8166"
      },
      "execution_count": 59,
      "outputs": [
        {
          "output_type": "stream",
          "name": "stdout",
          "text": [
            "[348711 315986 218365 ... 205861 410986 101897]\n"
          ]
        }
      ]
    },
    {
      "cell_type": "markdown",
      "source": [
        "* Print the first five block IDs from `block_ids`."
      ],
      "metadata": {
        "id": "6gWQmuoA95Rq"
      }
    },
    {
      "cell_type": "code",
      "source": [
        "# Print the first five block_ids\n",
        "print(block_ids[:5])\n",
        "print(block_ids[0:5])"
      ],
      "metadata": {
        "id": "i_7aUFi558n1",
        "colab": {
          "base_uri": "https://localhost:8080/"
        },
        "outputId": "08b792a7-3c38-4302-99da-46cd50b51864"
      },
      "execution_count": 65,
      "outputs": [
        {
          "output_type": "stream",
          "name": "stdout",
          "text": [
            "[348711 315986 218365 217969 223043]\n",
            "[348711 315986 218365 217969 223043]\n"
          ]
        }
      ]
    },
    {
      "cell_type": "markdown",
      "source": [
        "Select the tenth block ID from `block_ids`, saving the result as `tenth_block_id`."
      ],
      "metadata": {
        "id": "Me8S-BQO-JCi"
      }
    },
    {
      "cell_type": "code",
      "source": [
        "# Select the tenth block ID from block_ids\n",
        "tenth_block_id = block_ids[9]\n",
        "print(tenth_block_id)"
      ],
      "metadata": {
        "id": "g8jdrbs7-OgB",
        "colab": {
          "base_uri": "https://localhost:8080/"
        },
        "outputId": "35f6cabe-bb7d-4248-d68e-73347d76f3a9"
      },
      "execution_count": 66,
      "outputs": [
        {
          "output_type": "stream",
          "name": "stdout",
          "text": [
            "207508\n"
          ]
        }
      ]
    },
    {
      "cell_type": "markdown",
      "source": [
        "Select five consecutive block IDs from `block_ids`, starting with the tenth ID, and save as `block_id_slice`"
      ],
      "metadata": {
        "id": "Xb7D5uXR-O8q"
      }
    },
    {
      "cell_type": "code",
      "source": [
        "# Select five block IDs from block_ids starting with the tenth ID\n",
        "block_id_slice = block_ids[9:14]\n",
        "print(block_id_slice)"
      ],
      "metadata": {
        "id": "_4tNzHxx-Sqj",
        "colab": {
          "base_uri": "https://localhost:8080/"
        },
        "outputId": "8cf9d43c-2a7e-4064-d8d0-6991238987fc"
      },
      "execution_count": 67,
      "outputs": [
        {
          "output_type": "stream",
          "name": "stdout",
          "text": [
            "[207508 302371 302371 415896 219493]\n"
          ]
        }
      ]
    },
    {
      "cell_type": "markdown",
      "source": [
        "### Stepping into 2D\n",
        "\n",
        "Now assume that your research requires you to take an admittedly unrepresentative sample of trunk diameters, which are located in the third column of `tree_census`. Getting just a selection of trunk diameters can be done with NumPy’s slicing and stepping functionality.\n",
        "\n",
        "`numpy` is loaded as `np`, and the `tree_census` 2D array is available.\n",
        "\n",
        "*   Create an array called `hundred_diameters` which contains the first 100 trunk diameters in `tree_census`.\n",
        "\n",
        "*   Create an array,`every_other_diameter`, which contains only trunk diameters for trees with _even_ row _indices_ from 50 to 100, inclusive."
      ],
      "metadata": {
        "id": "lU5dyN1r-_la"
      }
    },
    {
      "cell_type": "markdown",
      "source": [
        "Create an array called hundred_diameters which contains the first 100 trunk diameters in tree_census."
      ],
      "metadata": {
        "id": "eTURcxmP_JLz"
      }
    },
    {
      "cell_type": "code",
      "source": [
        "print(tree_census[:100])"
      ],
      "metadata": {
        "id": "Uepe7JXdF4L-",
        "colab": {
          "base_uri": "https://localhost:8080/"
        },
        "outputId": "03cd6f49-743b-4c70-e4a3-32edca6b8788"
      },
      "execution_count": 83,
      "outputs": [
        {
          "output_type": "stream",
          "name": "stdout",
          "text": [
            "[[180683 348711      3      0]\n",
            " [200540 315986     21      0]\n",
            " [204026 218365      3      0]\n",
            " [204337 217969     10      0]\n",
            " [189565 223043     21      0]\n",
            " [190422 106099     11      0]\n",
            " [190426 106099     11      0]\n",
            " [208649 103940      9      0]\n",
            " [209610 407443      6      0]\n",
            " [192755 207508     21      0]\n",
            " [203719 302371     11      0]\n",
            " [203726 302371      8      0]\n",
            " [195202 415896     13      0]\n",
            " [189465 219493     22      0]\n",
            " [192998 211160     30      0]\n",
            " [189834 219505     12      0]\n",
            " [204208 204913      2      0]\n",
            " [161339 230864     14      0]\n",
            " [187311 342816     14      0]\n",
            " [208201 219258     10      0]\n",
            " [193093 225564     11      0]\n",
            " [193310 107600     14      0]\n",
            " [199760 107038      4      0]\n",
            " [204325 415427      9      0]\n",
            " [189700 223525      2      0]\n",
            " [205044 206800      5      0]\n",
            " [192942 310298     33      0]\n",
            " [195265 227489     19      0]\n",
            " [201555 102919      9      0]\n",
            " [208407 345512      9      0]\n",
            " [189164 223133      7      0]\n",
            " [184375 505172      3      0]\n",
            " [187056 106107      7      0]\n",
            " [187058 106107      5      0]\n",
            " [178659 406774      4      0]\n",
            " [190423 106099     12      0]\n",
            " [190425 106099     13      0]\n",
            " [211205 302080      0     16]\n",
            " [204202 415447     12      0]\n",
            " [184031 504204      3      0]\n",
            " [201494 406253     24      0]\n",
            " [208346 106403     20      0]\n",
            " [181710 207966     13      0]\n",
            " [178382 106001     12      0]\n",
            " [193690 227528     36      0]\n",
            " [196089 310255     29      0]\n",
            " [191988 102326      6      0]\n",
            " [203720 302371      9      0]\n",
            " [189339 219520     18      0]\n",
            " [208230 106402     13      0]\n",
            " [204413 204940     13      0]\n",
            " [161193 409065      9      0]\n",
            " [196132 206122     19      0]\n",
            " [196223 310465     17      0]\n",
            " [192888 210568     32      0]\n",
            " [192890 210568     28      0]\n",
            " [197978 310798      7      0]\n",
            " [187807 506266      0      0]\n",
            " [178601 410841     10      0]\n",
            " [184317 505563      5      0]\n",
            " [200225 106629      8      0]\n",
            " [208974 414958     10      0]\n",
            " [198146 411699      6      0]\n",
            " [198121 104405      8      0]\n",
            " [195252 102084      5      0]\n",
            " [204355 415383      5      0]\n",
            " [205759 301278     26      0]\n",
            " [201654 224121     10      0]\n",
            " [198514 108318     18      0]\n",
            " [203334 340820     11      0]\n",
            " [200628 315984     25      0]\n",
            " [186888 506316     15      0]\n",
            " [196373 103300     13      0]\n",
            " [209441 503960      5      0]\n",
            " [206435 210654     26      0]\n",
            " [196080 310272     36      0]\n",
            " [203759 302373     16      0]\n",
            " [190359 107635     13      0]\n",
            " [209909 504038      2      0]\n",
            " [180295 106100      2      0]\n",
            " [208373 106403      4      0]\n",
            " [196205 206082     22      0]\n",
            " [192086 203718     28      0]\n",
            " [203550 348013     42      0]\n",
            " [203718 302371     12      0]\n",
            " [208832 220174      3      0]\n",
            " [193183 348404      3      0]\n",
            " [203577 348022     26      0]\n",
            " [179477 223106      3      0]\n",
            " [203386 347979     26      0]\n",
            " [189537 223141     18      0]\n",
            " [196130 206122     24      0]\n",
            " [200676 229928     32      0]\n",
            " [206326 301258     13      0]\n",
            " [204118 415444     11      0]\n",
            " [192653 207574     22      0]\n",
            " [203592 348060     38      0]\n",
            " [189338 219520     18      0]\n",
            " [208240 106402      2      0]\n",
            " [208247 106402     29      0]]\n"
          ]
        }
      ]
    },
    {
      "cell_type": "code",
      "source": [
        "# Create an array of the first 100 trunk diameters from tree_census\n",
        "hundred_diameters = tree_census[:100,2]\n",
        "print(hundred_diameters)"
      ],
      "metadata": {
        "id": "Hyo-EECn-9ND",
        "colab": {
          "base_uri": "https://localhost:8080/"
        },
        "outputId": "9c484e0d-2b03-43f3-b9b6-94e167cb9111"
      },
      "execution_count": 76,
      "outputs": [
        {
          "output_type": "stream",
          "name": "stdout",
          "text": [
            "[ 3 21  3 10 21 11 11  9  6 21 11  8 13 22 30 12  2 14 14 10 11 14  4  9\n",
            "  2  5 33 19  9  9  7  3  7  5  4 12 13  0 12  3 24 20 13 12 36 29  6  9\n",
            " 18 13 13  9 19 17 32 28  7  0 10  5  8 10  6  8  5  5 26 10 18 11 25 15\n",
            " 13  5 26 36 16 13  2  2  4 22 28 42 12  3  3 26  3 26 18 24 32 13 11 22\n",
            " 38 18  2 29]\n"
          ]
        }
      ]
    },
    {
      "cell_type": "markdown",
      "source": [
        "Create an array,every_other_diameter, which contains only trunk diameters for trees with even row indices from 50 to 100, inclusive."
      ],
      "metadata": {
        "id": "im0Al7Hg_MeS"
      }
    },
    {
      "cell_type": "code",
      "source": [
        "# Create an array of trunk diameters with even row indices from 50 to 100 inclusive\n",
        "every_other_diameter = tree_census[50:101:2,2]\n",
        "print(every_other_diameter)"
      ],
      "metadata": {
        "id": "_jW56STY_Lwn",
        "colab": {
          "base_uri": "https://localhost:8080/"
        },
        "outputId": "80267aa9-0f7e-440f-a19b-72330bd2dd76"
      },
      "execution_count": 89,
      "outputs": [
        {
          "output_type": "stream",
          "name": "stdout",
          "text": [
            "[13 19 32  7 10  8  6  5 26 18 25 13 26 16  2  4 28 12  3  3 18 32 11 38\n",
            "  2 11]\n"
          ]
        }
      ]
    },
    {
      "cell_type": "markdown",
      "source": [
        "### Sorting trees\n",
        "\n",
        "Sometimes it’s easiest to understand data when it is sorted according to the value you are most interested in. Your new research task is to create an array containing the trunk diameters in the New York City tree census, sorted in order from smallest to largest.\n",
        "\n",
        "`numpy` is loaded as `np`, and the `tree_census` 2D array is available.\n",
        "\n",
        "*   Create an array called `sorted_trunk_diameters` which selects only the trunk diameter column from `tree_census` and sorts it so that the smallest trunk diameters are at the top of the array and the largest at the bottom."
      ],
      "metadata": {
        "id": "UkCuaNjKItAt"
      }
    },
    {
      "cell_type": "code",
      "source": [
        "# Extract trunk diameters information and sort from smallest to largest\n",
        "sorted_trunk_diameters = np.sort(tree_census[:,2])\n",
        "print(sorted_trunk_diameters)"
      ],
      "metadata": {
        "id": "XQ7iKLL7I9ut",
        "colab": {
          "base_uri": "https://localhost:8080/"
        },
        "outputId": "628071ff-3086-43d5-a6b5-79cdd02791d3"
      },
      "execution_count": 90,
      "outputs": [
        {
          "output_type": "stream",
          "name": "stdout",
          "text": [
            "[  0   0   0 ... 255 282 425]\n"
          ]
        }
      ]
    },
    {
      "cell_type": "markdown",
      "source": [
        "##Filtering arrays"
      ],
      "metadata": {
        "id": "ps0yre-XoTVE"
      }
    },
    {
      "cell_type": "markdown",
      "source": [
        "### Filtering with masks\n",
        "\n",
        "In the last lesson, you sorted trees from smallest to largest. Now, you’ll use fancy indexing to return the row of data representing the largest tree in `tree_census`. You’ll also examine other trees located on the same block as the largest tree: are they also large?\n",
        "\n",
        "`numpy` is loaded as `np`, and the `tree_census` array is available. As a reminder, the `tree_census` columns in order refer to a tree’s ID, its block ID, its trunk diameter, and its stump diameter.\n",
        "\n",
        "*   Using Boolean indexing, create an array, `largest_tree_data`, which contains the row of data on the largest tree in `tree_census` corresponding to the tree with a diameter of `450`."
      ],
      "metadata": {
        "id": "kXZjIbwBodQG"
      }
    },
    {
      "cell_type": "code",
      "source": [
        "tree_census[:,2]"
      ],
      "metadata": {
        "id": "Kf3_XK-Que7W"
      },
      "execution_count": null,
      "outputs": []
    },
    {
      "cell_type": "code",
      "source": [
        "np.max(tree_census[:,2])"
      ],
      "metadata": {
        "id": "oaavD4Xoundm"
      },
      "execution_count": null,
      "outputs": []
    },
    {
      "cell_type": "code",
      "source": [
        "# Create an array which contains row data on the largest tree in tree_census\n",
        "largest_tree_data = ____\n",
        "print(largest_tree_data)"
      ],
      "metadata": {
        "id": "-dkQzKVRoxHE"
      },
      "execution_count": null,
      "outputs": []
    },
    {
      "cell_type": "code",
      "source": [
        "# Slice largest_tree_data to get only the block id\n",
        "largest_tree_block_id = ____\n",
        "print(largest_tree_block_id)"
      ],
      "metadata": {
        "id": "mEPmDI9qtBSH"
      },
      "execution_count": null,
      "outputs": []
    },
    {
      "cell_type": "code",
      "source": [
        "# Create an array which contains row data on all trees with largest_tree_block_id\n",
        "trees_on_largest_tree_block = ____\n",
        "print(trees_on_largest_tree_block)"
      ],
      "metadata": {
        "id": "2erZUr7vtFkT"
      },
      "execution_count": null,
      "outputs": []
    },
    {
      "cell_type": "markdown",
      "source": [
        "### Fancy indexing vs. np.where()\n",
        "\n",
        "You and your tree research team are double\\-checking collection data\n",
        "by visiting a few trees in person to confirm their measurements. You’ve\n",
        "been assigned to check the data for trees on block 313879, and you’d\n",
        "like to make a small array of just the tree data that relates to your\n",
        "work.\n",
        "\n",
        "`numpy` is loaded as `np`, and the`tree_census` array is available. As a reminder, the`tree_census` columns in order refer to a tree’s ID, its\n",
        "block ID, its trunk diameter, and its stump diameter.\n",
        "\n",
        "* Using fancy indexing, create an array called`block_313879` which only contains data for trees with a\n",
        "block ID of 313879\\.\n",
        "\n",
        "* Using `np.where()`, create an array of`row_indices` for trees with a block ID of 313879\\.\n",
        "* Using `row_indices`, create `block_313879`,\n",
        "which contains data for trees on block 313879\\."
      ],
      "metadata": {
        "id": "C-BoKixfo5F_"
      }
    },
    {
      "cell_type": "code",
      "source": [
        "# Create the block_313879 array containing trees on block 313879\n",
        "block_313879 = ____\n",
        "print(block_313879)\n",
        "\n",
        "# Create an array of row_indices for trees on block 313879\n",
        "row_indices = np.where(___)\n",
        "\n",
        "# Create an array which only contains data for trees on block 313879\n",
        "block_313879 = ____\n",
        "print(block_313879)"
      ],
      "metadata": {
        "id": "88fcnS1zo-fV"
      },
      "execution_count": null,
      "outputs": []
    },
    {
      "cell_type": "markdown",
      "source": [
        "### Creating arrays from conditions\n",
        "\n",
        "Currently, the stump diameter and trunk diameter values in`tree_census` are in two different columns. Living trees have\n",
        "a stump diameter of zero while stumps have a trunk diameter of zero. If\n",
        "you’d like to include both living trees and stumps in certain research\n",
        "calculations, it might be useful to have their diameters together in\n",
        "just one column.\n",
        "\n",
        "`numpy` is loaded as `np`, and the`tree_census` array is available. As a reminder, the tree\n",
        "census columns in order refer to a tree’s ID, its block ID, its trunk\n",
        "diameter, and its stump diameter.\n",
        "\n",
        "* Create and print a 1D array called`trunk_stump_diameters`, which replaces a tree’s trunk\n",
        "diameter with its stump diameter if the trunk diameter is zero."
      ],
      "metadata": {
        "id": "tp-iHqMppC3_"
      }
    },
    {
      "cell_type": "code",
      "source": [
        "# Create and print a 1D array of tree and stump diameters\n",
        "trunk_stump_diameters = ____\n",
        "print(trunk_stump_diameters)"
      ],
      "metadata": {
        "id": "P-nsijYcpGtW"
      },
      "execution_count": null,
      "outputs": []
    },
    {
      "cell_type": "markdown",
      "source": [
        "## Adding and removing data"
      ],
      "metadata": {
        "id": "XnlOXX1LpNwr"
      }
    },
    {
      "cell_type": "markdown",
      "source": [
        "### Compatible or not?\n",
        "\n",
        "Before concatenating, it’s important to check whether two arrays can\n",
        "be concatenated together. If not, the array may need to be reshaped\n",
        "before concatenation.\n",
        "\n",
        "* Each card lists two array shapes: determine whether they are\n",
        "compatible for concatenation, and if so, along which axis.\n",
        "\n",
        "##### Compatible along the first axis\n",
        "\n",
        "* `(4, 2)` and `(6, 2)`\n",
        "* `(15, 5)` and `(100, 5)`\n",
        "\n",
        "##### Compatible along the second axis\n",
        "\n",
        "* `(4, 2)` and `(4, 3)`\n",
        "\n",
        "##### Not compatible\n",
        "\n",
        "* `(5, 2)` and `(7, 4)`\n",
        "* `(4, 2)` and `(4,)`\n",
        "* `(4, 2)` and `(2,)`"
      ],
      "metadata": {
        "id": "9JM7PctBppFk"
      }
    },
    {
      "cell_type": "markdown",
      "source": [
        "### Adding rows\n",
        "\n",
        "The research team has discovered two trees that were left off the`tree_census`. Your task is to add rows containing the data\n",
        "for these new trees to the end of the `tree_census` array.\n",
        "The new trees’ data is saved in a 2D array called`new_trees`:\n",
        "\n",
        "```\n",
        "new_trees = np.array([[1211, 227386, 20, 0], [1212, 227386, 8, 0]])\n",
        "```\n",
        "`numpy` is loaded as `np`, and the`tree_census` and `new_trees` arrays are\n",
        "available.\n",
        "\n",
        "* Print the shapes of `tree_census` and`new_trees` to confirm they are compatible to\n",
        "concatenate.\n",
        "* Add rows to the end of `tree_census` containing data for\n",
        "the new trees from the `new_trees` 2D array; save the new\n",
        "array as `updated_tree_census`."
      ],
      "metadata": {
        "id": "u0S0oQxSpzCW"
      }
    },
    {
      "cell_type": "code",
      "source": [
        "new_trees = np.array([[1211, 227386, 20, 0], [1212, 227386, 8, 0]])\n",
        "\n",
        "# Print the shapes of tree_census and new_trees\n",
        "print(tree_census.______, new_trees._______)\n",
        "\n",
        "# Add rows to tree_census which contain data for the new trees\n",
        "updated_tree_census = ________\n",
        "print(updated_tree_census)"
      ],
      "metadata": {
        "id": "5WUQSxvhp57M"
      },
      "execution_count": null,
      "outputs": []
    },
    {
      "cell_type": "markdown",
      "source": [
        "### Adding columns\n",
        "\n",
        "You finished the last set of exercises by creating an array called`trunk_stump_diameters`, which combined data from the trunk\n",
        "diameter and stump diameter columns into a 1D array. Now, you’ll add\n",
        "that 1D array as a column to the `tree_census` array.\n",
        "\n",
        "`numpy` is loaded as `np`, and both the`tree_census` and `trunk_stump_diameters` arrays\n",
        "are available.\n",
        "\n",
        "* Print the shapes of both `tree_census` and`trunk_stump_diameters`.\n",
        "* Reshape `trunk_stump_diameters` so that it can be\n",
        "appended as the last column in `tree_census`; call the\n",
        "reshaped array `reshaped_diameters`.\n",
        "* Concatenate `reshaped_diameters` to the end of`tree_census` so that it becomes the last column; call the\n",
        "new array `concatenated_tree_census`."
      ],
      "metadata": {
        "id": "ZrwlQp2sqAb3"
      }
    },
    {
      "cell_type": "code",
      "source": [
        "# Print the shapes of tree_census and trunk_stump_diameters\n",
        "print(trunk_stump_diameters.shape, tree_census.shape)\n",
        "\n",
        "# Reshape trunk_stump_diameters\n",
        "reshaped_diameters = trunk_stump_diameters.__________________\n",
        "\n",
        "# Print the shapes of tree_census and trunk_stump_diameters\n",
        "print(trunk_stump_diameters._____, tree_census._____)\n",
        "\n",
        "# Concatenate reshaped_diameters to tree_census as the last column\n",
        "concatenated_tree_census = np.______________((tree_census, reshaped_diameters), axis=__)\n",
        "print(concatenated_tree_census)"
      ],
      "metadata": {
        "id": "ate5it7hqHg_"
      },
      "execution_count": null,
      "outputs": []
    },
    {
      "cell_type": "markdown",
      "source": [
        "### Deleting with np.delete()\n",
        "\n",
        "What if your tree research focuses only on living trees on\n",
        "publicly\\-owned city blocks? It might be helpful to delete some unneeded\n",
        "data like the stump diameter column and some trees located on private\n",
        "blocks.\n",
        "\n",
        "You’ve learned that NumPy’s `np.delete()` function takes\n",
        "three arguments: the original array, the index or indices to be deleted,\n",
        "and the axis to delete along. If you don’t know the index or indices of\n",
        "the array you’d like to delete, recall that when it is only passed one\n",
        "argument,`np.where()` returns an array of indices where a\n",
        "condition is met!\n",
        "\n",
        "`numpy` is loaded as `np`, and the`tree_census` 2D array is available. The columns in order\n",
        "refer to a tree’s ID, block number, trunk diameter, and stump\n",
        "diameter.\n",
        "\n",
        "* Delete the stump diameter column from `tree_census`, and\n",
        "save the new 2D array as `tree_census_no_stumps`.\n",
        "* Using `np.where()`, find the indices of any trees on\n",
        "block 313879, a private block. Save the indices in an array called`private_block_indices`. Using the indices you just found\n",
        "using `np.where()`, delete the rows for trees on block 313879\n",
        "from `tree_census_no_stumps`, saving the new 2D array as`tree_census_clean`. Print the shape of`tree_census_clean`."
      ],
      "metadata": {
        "id": "mX2L_OObqM7G"
      }
    },
    {
      "cell_type": "code",
      "source": [
        "# Delete the stump diameter column from tree_census\n",
        "tree_census_no_stumps = _____________\n",
        "\n",
        "# Save the indices of the trees on block 313879\n",
        "private_block_indices = ___________________\n",
        "\n",
        "# Delete the stump diameter column from tree_census\n",
        "tree_census_no_stumps = ____________________\n",
        "\n",
        "# Save the indices of the trees on block 313879\n",
        "private_block_indices = np._______(____________ == 313879)\n",
        "\n",
        "# Delete the rows for trees on block 313879 from tree_census_no_stumps\n",
        "tree_census_clean = np.______(_______________)\n",
        "\n",
        "# Print the shape of tree_census_clean\n",
        "print(tree_census_clean._______)"
      ],
      "metadata": {
        "id": "XSFxh_NUqRuY"
      },
      "execution_count": null,
      "outputs": []
    },
    {
      "cell_type": "markdown",
      "source": [
        "#Array Mathematics!\n",
        "Leverage NumPy’s speedy vectorized operations to gather summary\n",
        "insights on sales data for American liquor stores, restaurants, and\n",
        "department stores. Vectorize Python functions for use in your NumPy\n",
        "code. Finally, use broadcasting logic to perform mathematical operations\n",
        "between arrays of different sizes."
      ],
      "metadata": {
        "id": "MbyFIyqMwV2P"
      }
    },
    {
      "cell_type": "markdown",
      "source": [
        "Summarizing data\n",
        "----------------\n",
        "\n",
        "### Sales totals\n",
        "\n",
        "The dataset you’ll be working with during this chapter is one year’s\n",
        "sales data by month for three different industries. Each row in this`monthly_sales` array represents a month from January to\n",
        "December. The first column has monthly sales data for liquor stores, the\n",
        "second column has data for restaurants, and the last column tracks sales\n",
        "for department stores.\n",
        "\n",
        "```\n",
        "array([[ 4134, 23925,  8657],\n",
        "       [ 4116, 23875,  9142],\n",
        "       [ 4673, 27197, 10645],\n",
        "       [ 4580, 25637, 10456],\n",
        "       [ 5109, 27995, 11299],\n",
        "       [ 5011, 27419, 10625],\n",
        "       [ 5245, 27305, 10630],\n",
        "       [ 5270, 27760, 11550],\n",
        "       [ 4680, 24988,  9762],\n",
        "       [ 4913, 25802, 10456],\n",
        "       [ 5312, 25405, 13401],\n",
        "       [ 6630, 27797, 18403]])\n",
        "```\n",
        "Your task is to create an array with all the information from`monthly_sales` as well as a fourth column which totals the\n",
        "monthly sales across industries for each month.\n",
        "\n",
        "`numpy` is loaded for you as `np`, and the`monthly_sales` array is available.\n",
        "\n",
        "* Create a *2D* array which contains a single column of total\n",
        "monthly sales across industries; call it`monthly_industry_sales`.\n",
        "* Concatenate `monthly_industry_sales` with`monthly_sales` into a new array called`monthly_sales_with_total`, with the monthly cross\\-industry\n",
        "sales information in the final column."
      ],
      "metadata": {
        "id": "rcOswoPbwjb9"
      }
    },
    {
      "cell_type": "code",
      "source": [
        "monthly_sales = np.array([[ 4134, 23925,  8657],\n",
        "       [ 4116, 23875,  9142],\n",
        "       [ 4673, 27197, 10645],\n",
        "       [ 4580, 25637, 10456],\n",
        "       [ 5109, 27995, 11299],\n",
        "       [ 5011, 27419, 10625],\n",
        "       [ 5245, 27305, 10630],\n",
        "       [ 5270, 27760, 11550],\n",
        "       [ 4680, 24988,  9762],\n",
        "       [ 4913, 25802, 10456],\n",
        "       [ 5312, 25405, 13401],\n",
        "       [ 6630, 27797, 18403]])\n",
        "\n",
        "# Create a 2D array of total monthly sales across industries\n",
        "monthly_industry_sales = ________\n",
        "print(monthly_industry_sales)\n",
        "\n",
        "# Add this column as the last column in monthly_sales\n",
        "monthly_sales_with_total = ________\n",
        "print(monthly_sales_with_total)"
      ],
      "metadata": {
        "id": "jbKTXHFfziqA"
      },
      "execution_count": null,
      "outputs": []
    },
    {
      "cell_type": "markdown",
      "source": [
        "### Plotting averages\n",
        "\n",
        "Perhaps you have a hunch that department stores see greater increased\n",
        "sales than average during the end of the year as people rush to buy\n",
        "gifts. You’d like to test this theory by comparing monthly department\n",
        "store sales to average sales across all three industries.\n",
        "\n",
        "`numpy` is loaded for you as `np`, and the`monthly_sales` array is available. The`monthly_sales` columns in order refer to liquor store,\n",
        "restaurant, and department store sales.\n",
        "\n",
        "* Create a 1D array called `avg_monthly_sales`, which\n",
        "contains an average sales amount for each month across the three\n",
        "industries.\n",
        "* Plot an *array* of the numbers one through twelve\n",
        "(representing each month) on the x\\-axis and`avg_monthly_sales` on the y\\-axis.\n",
        "* Plot an *array* of the numbers one through twelve on the\n",
        "x\\-axis and the department store sales column of`monthly_sales` on the y\\-axis."
      ],
      "metadata": {
        "id": "W2dE-9Yvzu2-"
      }
    },
    {
      "cell_type": "code",
      "source": [
        "# Create the 1D array avg_monthly_sales\n",
        "avg_monthly_sales = ________\n",
        "print(avg_monthly_sales)\n",
        "\n",
        "# Create the 1D array avg_monthly_sales\n",
        "avg_monthly_sales = ________\n",
        "print(avg_monthly_sales)\n",
        "\n",
        "# Plot avg_monthly_sales by month\n",
        "plt.plot(np.arange(1, 13), avg_monthly_sales, label=\"Average sales across industries\")\n",
        "\n",
        "# Plot department store sales by month\n",
        "plt.plot(np.arange(1, 13), monthly_sales[:, 2], label=\"Department store sales\")\n",
        "plt.legend()\n",
        "plt.show()"
      ],
      "metadata": {
        "id": "F-SwGQ6Xzz_n"
      },
      "execution_count": null,
      "outputs": []
    },
    {
      "cell_type": "markdown",
      "source": [
        "### Cumulative sales\n",
        "\n",
        "In the last exercise, you established that December is a big month\n",
        "for department stores. Are there other months where sales increase or\n",
        "decrease significantly?\n",
        "\n",
        "Your task now is to look at monthly cumulative sales for each\n",
        "industry. The slope of the cumulative sales line will explain a lot\n",
        "about how steady sales are over time: a straight line will indicate\n",
        "steady growth, and changes in slope will indicate relative increases or\n",
        "decreases in sales.\n",
        "\n",
        "`numpy` is loaded for you as `np`, and the`monthly_sales` array is available. The`monthly_sales` columns in order refer to liquor store,\n",
        "restaurant, and department store sales.\n",
        "\n",
        "* Find cumulative monthly sales for each industry, saving this data in\n",
        "an array called `cumulative_monthly_industry_sales`.\n",
        "* Plot each industry’s cumulative sales by month as separate lines,\n",
        "with cumulative sales on the y\\-axis and month number on the x\\-axis."
      ],
      "metadata": {
        "id": "s6Yje-OMz7Ps"
      }
    },
    {
      "cell_type": "code",
      "source": [
        "# Find cumulative monthly sales for each industry\n",
        "cumulative_monthly_industry_sales = ________\n",
        "print(cumulative_monthly_industry_sales)\n",
        "\n",
        "# Find cumulative monthly sales for each industry\n",
        "cumulative_monthly_industry_sales = ________\n",
        "print(cumulative_monthly_industry_sales)\n",
        "\n",
        "# Plot each industry's cumulative sales by month as separate lines\n",
        "plt.plot(np.arange(1, 13), cumulative_monthly_industry_sales[:, 0], label=\"Liquor Stores\")\n",
        "plt.plot(np.arange(1, 13), cumulative_monthly_industry_sales[:, 1], label=\"Restaurants\")\n",
        "plt.plot(np.arange(1, 13), cumulative_monthly_industry_sales[:, 2], label=\"Department stores\")\n",
        "plt.legend()\n",
        "plt.show()"
      ],
      "metadata": {
        "id": "a18lKOMR0DWs"
      },
      "execution_count": null,
      "outputs": []
    },
    {
      "cell_type": "markdown",
      "source": [
        "##Vectorized operations\n",
        "---------------------\n",
        "\n",
        "### Tax calculations\n",
        "\n",
        "It’s possible to use vectorized operations to calculate taxes for the\n",
        "liquor, restaurant, and department store industries! We’ll simplify the\n",
        "tax calculation process here and assume that government collects 5% of\n",
        "all sales across these industries as tax revenue.\n",
        "\n",
        "Your task is to calculate the tax owed by each industry related to\n",
        "each month’s sales. `numpy` is loaded for you as`np`, and the `monthly_sales` array is\n",
        "available.\n",
        "\n",
        "* Create an array called `tax_collected` which calculates\n",
        "tax collected by industry and month by multiplying each element in`monthly_sales` by 0\\.05\\.\n",
        "* Create an array that keeps track of`total_tax_and_revenue` collected by each industry and month\n",
        "by adding each element in `tax_collected` with its\n",
        "corresponding element in `monthly_sales`."
      ],
      "metadata": {
        "id": "wtOlTFA80IKu"
      }
    },
    {
      "cell_type": "code",
      "source": [
        "# Create an array of tax collected by industry and month\n",
        "tax_collected = ________\n",
        "print(tax_collected)\n",
        "\n",
        "\n",
        "# Create an array of sales revenue plus tax collected by industry and month\n",
        "total_tax_and_revenue = ________\n",
        "print(total_tax_and_revenue)"
      ],
      "metadata": {
        "id": "fKJH2b270T3t"
      },
      "execution_count": null,
      "outputs": []
    },
    {
      "cell_type": "markdown",
      "source": [
        "### Projecting sales\n",
        "\n",
        "You’d like to be able to plan for next year’s operations by\n",
        "projecting what sales will be, and you’ve gathered multipliers specific\n",
        "to each month and industry. These multipliers are saved in an array\n",
        "called `monthly_industry_multipliers`. For example, the\n",
        "multiplier at `monthly_industry_multipliers[0, 0]` of`0.98` means that the liquor store industry is projected to\n",
        "have 98% of this January’s sales in January of next year.\n",
        "\n",
        "```\n",
        "array([[0.98, 1.02, 1.  ],\n",
        "       [1.00, 1.01, 0.97],\n",
        "       [1.06, 1.03, 0.98],\n",
        "       [1.08, 1.01, 0.98],\n",
        "       [1.08, 0.98, 0.98],\n",
        "       [1.1 , 0.99, 0.99],\n",
        "       [1.12, 1.01, 1.  ],\n",
        "       [1.1 , 1.02, 1.  ],\n",
        "       [1.11, 1.01, 1.01],\n",
        "       [1.08, 0.99, 0.97],\n",
        "       [1.09, 1.  , 1.02],\n",
        "       [1.13, 1.03, 1.02]])\n",
        "```\n",
        "`numpy` is loaded for you as `np`, and the`monthly_sales` and `monthly_industry_multipliers`arrays are available. The `monthly_sales` columns in order\n",
        "refer to liquor store, restaurant, and department store sales.\n",
        "\n",
        "* Create an array called `projected_monthly_sales` which\n",
        "contains projected sales for all three industries based on the\n",
        "multipliers you have gathered.\n",
        "* Create a graph that plots two lines: current liquor store sales by\n",
        "month and projected liquor store sales by month; months will be\n",
        "represented by an array of the numbers one through twelve."
      ],
      "metadata": {
        "id": "Tj4wI2qD0TJ1"
      }
    },
    {
      "cell_type": "code",
      "source": [
        "monthly_industry_multipliers = np.array([[0.98, 1.02, 1.  ],\n",
        "       [1.00, 1.01, 0.97],\n",
        "       [1.06, 1.03, 0.98],\n",
        "       [1.08, 1.01, 0.98],\n",
        "       [1.08, 0.98, 0.98],\n",
        "       [1.1 , 0.99, 0.99],\n",
        "       [1.12, 1.01, 1.  ],\n",
        "       [1.1 , 1.02, 1.  ],\n",
        "       [1.11, 1.01, 1.01],\n",
        "       [1.08, 0.99, 0.97],\n",
        "       [1.09, 1.  , 1.02],\n",
        "       [1.13, 1.03, 1.02]])\n",
        "\n",
        "# Create an array of monthly projected sales for all industries\n",
        "projected_monthly_sales = ________\n",
        "print(projected_monthly_sales)\n",
        "\n",
        "# Graph current liquor store sales and projected liquor store sales by month\n",
        "plt.plot(np.arange(1, 13), monthly_sales[:, 0], label=\"Current liquor store sales\")\n",
        "plt.plot(np.arange(1, 13), projected_monthly_sales[:, 0], label=\"Projected liquor store sales\")\n",
        "plt.legend()\n",
        "plt.show()"
      ],
      "metadata": {
        "id": "juplBuZL0iSq"
      },
      "execution_count": null,
      "outputs": []
    },
    {
      "cell_type": "markdown",
      "source": [
        "### Vectorizing .upper()\n",
        "\n",
        "There are many situations where you might want to use Python methods\n",
        "and functions on array elements in NumPy. You can always write a`for` loop to do this, but vectorized operations are much\n",
        "faster and more efficient, so consider using`np.vectorize()`!\n",
        "\n",
        "You’ve got an array called `names` which contains first\n",
        "and last names:\n",
        "\n",
        "```\n",
        "names = np.array([[\"Izzy\", \"Monica\", \"Marvin\"],\n",
        "                  [\"Weber\", \"Patel\", \"Hernandez\"]])\n",
        "```\n",
        "You’d like to use one of the Python methods you learned on DataCamp,`.upper()`, to make all the letters of every name in the\n",
        "array uppercase. As a reminder, `.upper()` is a *string\n",
        "method*, meaning that it must be called on an instance of a string:`str.upper()`.\n",
        "\n",
        "Your task is to vectorize this Python method. `numpy` is\n",
        "loaded for you as `np`, and the `names` array is\n",
        "available.\n",
        "\n",
        "* Create a vectorized function called `vectorized_upper`from the Python `.upper()` string method.\n",
        "* Apply `vectorized_upper()` to the `names`array and save the resulting array as `uppercase_names`."
      ],
      "metadata": {
        "id": "CMJGmUo50nuv"
      }
    },
    {
      "cell_type": "code",
      "source": [
        "# edited/added\n",
        "names = np.array([[\"Izzy\", \"Monica\", \"Marvin\"],\n",
        "                  [\"Weber\", \"Patel\", \"Hernandez\"]])\n",
        "\n",
        "# Vectorize the .upper() string method\n",
        "vectorized_upper = ________\n",
        "\n",
        "# Apply vectorized_upper to the names array\n",
        "uppercase_names = ________\n",
        "print(uppercase_names)"
      ],
      "metadata": {
        "id": "8vuJQ-fR0uNg"
      },
      "execution_count": null,
      "outputs": []
    },
    {
      "cell_type": "markdown",
      "source": [
        "Broadcasting\n",
        "------------\n",
        "\n",
        "### Broadcastable or not?\n",
        "\n",
        "Broadcasting takes the power of vectorized operations in NumPy one\n",
        "step further, saving memory and computing power. But before\n",
        "broadcasting, you’ll need to check whether it’s even *possible*to use broadcasting in your mathematical operations!\n",
        "\n",
        "* Determine whether or not the array shapes given are broadcastable\n",
        "without reshaping.\n",
        "\n",
        "##### Broadcastable\n",
        "\n",
        "* `(3, 4)` and `(1, 4)`\n",
        "* `(3, 4)` and `(4, )`\n",
        "* `(3, 4)` and `(3, 1)`\n",
        "\n",
        "##### Not Broadcastable\n",
        "\n",
        "* `(3, 4)` and `(1, 2)`\n",
        "* `(3, 4)` and `(4, 1)`\n",
        "* `(3, 4)` and `(3, )`\n",
        "\n",
        "### Broadcasting across columns\n",
        "\n",
        "Recall that when broadcasting across columns, NumPy requires you to\n",
        "be explicit that it should broadcast a *vertical* array, and\n",
        "horizontal and vertical 1D arrays do not exist in NumPy. Instead, you\n",
        "must first create a 2D array to declare that you have vertical data.\n",
        "Then, NumPy creates a copy of this 2D vertical array for each column and\n",
        "applies the desired operation.\n",
        "\n",
        "A Python list called `monthly_growth_rate` with`len()` of `12` is available. This list represents\n",
        "monthly year\\-over\\-year expected growth for the economy; your task is to\n",
        "use broadcasting to multiply this list by each column in the`monthly_sales` array. The `monthly_sales` array\n",
        "is loaded, along with `numpy` as `np`.\n",
        "\n",
        "* Convert `monthly_growth_rate`, currently a Python list,\n",
        "into a one\\-dimensional NumPy array called`monthly_growth_1D`.\n",
        "* Reshape `monthly_growth_1D` so that it is broadcastable\n",
        "column\\-wise across `monthly_sales`; call the new array`monthly_growth_2D`.\n",
        "* Using broadcasting, multiply each column in`monthly_sales` by `monthly_growth_2D`."
      ],
      "metadata": {
        "id": "jKTOYaLJ0zUR"
      }
    },
    {
      "cell_type": "code",
      "source": [
        "monthly_growth_rate = [1.01, 1.03, 1.03, 1.02, 1.05, 1.03, 1.06, 1.04, 1.03, 1.04, 1.02, 1.01]\n",
        "\n",
        "# Convert monthly_growth_rate into a NumPy array\n",
        "monthly_growth_1D = ________\n",
        "\n",
        "# Reshape monthly_growth_1D\n",
        "monthly_growth_2D = ________\n",
        "\n",
        "# Multiply each column in monthly_sales by monthly_growth_2D\n",
        "print(monthly_growth_2D * monthly_sales)"
      ],
      "metadata": {
        "id": "jfr_eT5y07bx"
      },
      "execution_count": null,
      "outputs": []
    },
    {
      "cell_type": "markdown",
      "source": [
        "### Broadcasting across rows\n",
        "\n",
        "In the last set of exercises, you used`monthly_industry_multipliers`, to create sales predictions.\n",
        "Recall that `monthly_industry_multipliers` looks like\n",
        "this:\n",
        "\n",
        "```\n",
        "array([[0.98, 1.02, 1.  ],\n",
        "       [1.00, 1.01, 0.97],\n",
        "       [1.06, 1.03, 0.98],\n",
        "       [1.08, 1.01, 0.98],\n",
        "       [1.08, 0.98, 0.98],\n",
        "       [1.1 , 0.99, 0.99],\n",
        "       [1.12, 1.01, 1.  ],\n",
        "       [1.1 , 1.02, 1.  ],\n",
        "       [1.11, 1.01, 1.01],\n",
        "       [1.08, 0.99, 0.97],\n",
        "       [1.09, 1.  , 1.02],\n",
        "       [1.13, 1.03, 1.02]])\n",
        "```\n",
        "Assume you’re not comfortable being so specific with your estimates.\n",
        "Rather, you’d like to use `monthly_industry_multipliers` to\n",
        "find a single average multiplier for each industry. Then you’ll use that\n",
        "multiplier to project next year’s sales.\n",
        "\n",
        "`numpy` is loaded for you as `np`, and the`monthly_sales` and `monthly_industry_multipliers`arrays are available. The `monthly_sales` columns in order\n",
        "refer to liquor store, restaurant, and department store sales.\n",
        "\n",
        "* Find the mean sales projection multiplier for each industry; save in\n",
        "an array called `mean_multipliers`.\n",
        "* Print the shapes of `mean_multipliers` and`monthly_sales` to ensure they are suitable for\n",
        "broadcasting.\n",
        "* Multiply each monthly sales value by the mean multiplier you found\n",
        "for that industry; save in an array called`projected_sales`."
      ],
      "metadata": {
        "id": "v73FNww80_LW"
      }
    },
    {
      "cell_type": "code",
      "source": [
        "# Find the mean sales projection multiplier for each industry\n",
        "mean_multipliers = ________\n",
        "print(mean_multipliers)\n",
        "\n",
        "# Print the shapes of mean_multipliers and monthly_sales\n",
        "print(mean_multipliers.________, monthly_sales.________)\n",
        "\n",
        "# Multiply each value by the multiplier for that industry\n",
        "projected_sales = ________\n",
        "print(projected_sales)"
      ],
      "metadata": {
        "id": "bv7jLqW01G5G"
      },
      "execution_count": null,
      "outputs": []
    },
    {
      "cell_type": "markdown",
      "source": [
        "Array Transformations\n",
        "=====================\n",
        "\n",
        "NumPy meets the art world in this final chapter as we use image data\n",
        "from a Monet masterpiece to explore how you can use to augment image\n",
        "data. You’ll use flipping and transposing functionality to quickly\n",
        "transform our masterpiece. Next, you’ll pull the Monet array apart, make\n",
        "changes, and reconstruct it using array stacking to see the results.\n",
        "\n",
        "Saving and loading arrays\n",
        "-------------------------\n",
        "\n",
        "### Loading .npy files\n",
        "\n",
        "The exercises for this chapter will use a NumPy array holding an\n",
        "image in RGB format. Which image? You’ll have to load the array from the`mystery_image.npy` file to find out!\n",
        "\n",
        "`numpy` is loaded as `np`, and`mystery_image.npy` is available.\n",
        "\n",
        "* Load the `mystery_image.npy` file using the alias`f`, saving the contents as an array called`rgb_array`."
      ],
      "metadata": {
        "id": "LSRu_oFz5Xj3"
      }
    },
    {
      "cell_type": "code",
      "source": [
        "!wget \"https://assets.datacamp.com/production/repositories/5980/datasets/4f8315007ca8ddd7c4ad1d4be8cfe96f2877d141/rgb_array.npy\""
      ],
      "metadata": {
        "id": "gaohOjJgPs7k"
      },
      "execution_count": null,
      "outputs": []
    },
    {
      "cell_type": "code",
      "source": [
        "with open(\"rgb_array.npy\", \"rb\") as f:\n",
        "    rgb_array = np.load(f)\n",
        "\n",
        "plt.imshow(rgb_array)\n",
        "plt.show()"
      ],
      "metadata": {
        "id": "FMf07cerQdR2"
      },
      "execution_count": null,
      "outputs": []
    },
    {
      "cell_type": "markdown",
      "source": [
        "### Getting help\n",
        "\n",
        "You’ll need to use the `.astype()` array method we covered\n",
        "in the first chapter of this course for the next exercise. If you forget\n",
        "exactly how `.astype()` works, you could check out the course\n",
        "slides or NumPy’s documentation on [numpy.org](https://numpy.org). There is, however, an even\n",
        "faster way to jog your memory…\n",
        "\n",
        "`numpy` is loaded as `np`.\n",
        "\n",
        "* Return NumPy’s documentation text for `.astype()`."
      ],
      "metadata": {
        "id": "ImYrnPHS50ft"
      }
    },
    {
      "cell_type": "code",
      "source": [
        "# Display the documentation for .astype()\n",
        "help(np.ndarray.astype)"
      ],
      "metadata": {
        "id": "RISyo-iuRCta"
      },
      "execution_count": null,
      "outputs": []
    },
    {
      "cell_type": "markdown",
      "source": [
        "### Update and save\n",
        "\n",
        "Perhaps you are training a machine learning model to recognize ocean\n",
        "scenes. You’d like the model to understand that oceans are not only\n",
        "associated with bright, summery colors, so you’re careful to include\n",
        "images of oceans in bad weather or evening light as well. You may have\n",
        "to manually transform some images in order to balance the data, so your\n",
        "task is to darken the Monet ocean scene `rgb_array`.\n",
        "\n",
        "Recall from the video that white is associated with the maximum RGB\n",
        "value of 255, while darker colors are associated with lower values.`numpy` is loaded as `np`, and the 3D Monet`rgb_array` that you loaded in the last exercise is\n",
        "available.\n",
        "\n",
        "* Reduce every value in `rgb_array` by 50 percent, saving\n",
        "the resulting array as `darker_rgb_array`.\n",
        "* Since RGB values must be integers, convert`darker_rgb_array` into an array of integers called`darker_rgb_int_array` so that it can be plotted.\n",
        "* Save `darker_rgb_int_array` as an `.npy` file\n",
        "called `darker_monet.npy` using the alias`f`."
      ],
      "metadata": {
        "id": "9Zyo7AE96Dz4"
      }
    },
    {
      "cell_type": "code",
      "source": [
        "# edited/added\n",
        "rgb_array = np.load('rgb_array.npy')\n",
        "\n",
        "# Reduce every value in rgb_array by 50 percent\n",
        "darker_rgb_array = ________\n",
        "\n",
        "# Convert darker_rgb_array into an array of integers\n",
        "darker_rgb_int_array = ________\n",
        "plt.imshow(darker_rgb_int_array)\n",
        "plt.show()\n",
        "\n",
        "# Save darker_rgb_int_array to an .npy file called darker_monet.npy\n",
        "with open(\"darker_monet.npy\", \"wb\") as f:\n",
        "    np.save(f, darker_rgb_int_array)"
      ],
      "metadata": {
        "id": "d6X87daV6KW6"
      },
      "execution_count": null,
      "outputs": []
    },
    {
      "cell_type": "markdown",
      "source": [
        "Array acrobatics\n",
        "----------------\n",
        "\n",
        "### Augmenting Monet\n",
        "\n",
        "Perhaps you’re still working on that machine learning model that\n",
        "identifies ocean scenes in paintings. You’d like to generate a few extra\n",
        "images to augment your existing data. After all, a human can tell that a\n",
        "painting is of an ocean even if the painting is upside\\-down: why\n",
        "shouldn’t your machine learning model?\n",
        "\n",
        "`numpy` is loaded as `np`, and the 3D Monet`rgb_array` is available.\n",
        "\n",
        "* Flip `rgb_array` so that it is the mirror image of the\n",
        "original, with the ocean on the right and grassy knoll on the left.\n",
        "\n",
        "* Flip `rgb_array` so that it is upside down but otherwise\n",
        "remains the same."
      ],
      "metadata": {
        "id": "TLQk6j-C6P0b"
      }
    },
    {
      "cell_type": "code",
      "source": [
        "# Flip rgb_array so that it is the mirror image of the original\n",
        "mirrored_monet =\n",
        "plt.imshow(mirrored_monet)\n",
        "plt.show()\n",
        "\n",
        "# Flip rgb_array so that it is upside down\n",
        "upside_down_monet =\n",
        "plt.imshow(upside_down_monet)\n",
        "plt.show()"
      ],
      "metadata": {
        "id": "DbnJ_XvM6WrC"
      },
      "execution_count": null,
      "outputs": []
    },
    {
      "cell_type": "markdown",
      "source": [
        "### Transposing your masterpiece\n",
        "\n",
        "You’ve learned that transposing an array reverses the order of the\n",
        "array’s axes. To transpose the axes in a different order, you can pass\n",
        "the desired axes order as arguments. You’ll practice with the 3D Monet`rgb_array`, loaded for you. `numpy` has been\n",
        "imported as `np`.\n",
        "\n",
        "* Transpose the 3\\-D `rgb_array` so that the image appears\n",
        "rotated 90 degrees left and as a mirror image of itself."
      ],
      "metadata": {
        "id": "tON8BtYL6b6c"
      }
    },
    {
      "cell_type": "code",
      "source": [
        "# Transpose rgb_array\n",
        "transposed_rgb = ________\n",
        "plt.imshow(transposed_rgb)\n",
        "plt.show()"
      ],
      "metadata": {
        "id": "X-mM1T1g6k0j"
      },
      "execution_count": null,
      "outputs": []
    },
    {
      "cell_type": "markdown",
      "source": [
        "Stacking and splitting\n",
        "----------------------\n",
        "\n",
        "### 2D split and stack\n",
        "\n",
        "Splitting and stacking skills aren’t just useful with 3D RGB arrays:\n",
        "they are excellent for subsetting and organizing data of any type and\n",
        "dimension!\n",
        "\n",
        "You’ll now take a quick trip down memory lane to reorganize the`monthly_sales` array as a 3D array. Recall that the first\n",
        "dimension of `monthly_sales` is rows of a single month’s\n",
        "sales across three industries, and the second dimension is columns of\n",
        "monthly sales data for a single industry.\n",
        "\n",
        "Your task is to split this data into quarterly sales data and stack\n",
        "the quarterly sales data so that the new third dimension represents the\n",
        "four 2D arrays of quarterly sales.`numpy` is loaded as`np`, and the `monthly_sales` array is\n",
        "available.\n",
        "\n",
        "* Split `monthly_sales` into four arrays representing\n",
        "quarterly data across industries; print `q1_sales`.\n",
        "* Stack the four quarterly sales arrays to create a 3D array,`quarterly_sales`, made up of the four quarterly 2D arrays in\n",
        "order from the first to last quarter."
      ],
      "metadata": {
        "id": "iMF3SWXh6sXD"
      }
    },
    {
      "cell_type": "code",
      "source": [
        "# Split monthly_sales into quarterly data\n",
        "q1_sales, q2_sales, q3_sales, q4_sales = ________\n",
        "print(q1_sales)\n",
        "\n",
        "# Stack the four quarterly sales arrays\n",
        "quarterly_sales = ________\n",
        "print(quarterly_sales)"
      ],
      "metadata": {
        "id": "Suxi1XL56yxK"
      },
      "execution_count": null,
      "outputs": []
    },
    {
      "cell_type": "markdown",
      "source": [
        "### Splitting RGB data\n",
        "\n",
        "Perhaps you’d like to better understand Monet’s use of the color\n",
        "blue. Your task is to create a version of the Monet`rgb_array` that emphasizes parts of the painting that use\n",
        "lots of blue by making them even bluer! You’ll perform the splitting\n",
        "portion of this task in this exercise and the stacking portion in the\n",
        "next.\n",
        "\n",
        "`numpy` is loaded as `np`, and the Monet`rgb_array` is available.\n",
        "\n",
        "* Split the Monet `rgb_array` into red, green, and blue\n",
        "only pixel data; save the results as as `red_array`,`green_array`, and `blue_array`.\n",
        "* Create `emphasized_blue_array`, which replaces`blue_array` values with 255 if they are higher than the mean\n",
        "value of `blue_array`; otherwise, the value remains the\n",
        "same.\n",
        "* Print the `.shape` of`emphasized_blue_array`.\n",
        "* Reshape `emphasized_blue_array` to remove the trailing\n",
        "third dimension; save as `emphasized_blue_array_2D`."
      ],
      "metadata": {
        "id": "qBx33KD-63XI"
      }
    },
    {
      "cell_type": "code",
      "source": [
        "# Split rgb_array into red, green, and blue arrays\n",
        "red_array, green_array, blue_array = ________\n",
        "\n",
        "# Create emphasized_blue_array\n",
        "emphasized_blue_array = ________\n",
        "\n",
        "# Print the shape of emphasized_blue_array\n",
        "print(emphasized_blue_array.shape)\n",
        "\n",
        "# Remove the trailing dimension from emphasized_blue_array\n",
        "emphasized_blue_array_2D = ________"
      ],
      "metadata": {
        "id": "H-IyTLG263FE"
      },
      "execution_count": null,
      "outputs": []
    },
    {
      "cell_type": "markdown",
      "source": [
        "### Stacking RGB data\n",
        "\n",
        "Now you’ll combine `red_array`, `green_array`,\n",
        "and `emphasized_blue_array_2D` to see what Monet’s painting\n",
        "looks like with the blues emphasized!\n",
        "\n",
        "`numpy` is loaded as `np`, and the`red_array`, `green_array`,`blue_array` and `emphasized_blue_array_2D`objects that you created in the last exercise are available.\n",
        "\n",
        "* Print the shapes of `blue_array` and`emphasized_blue_array_2D`.\n",
        "* Reshape `red_array` and `green_array` so that\n",
        "they can be stacked with `emphasized_blue_array_2D`.\n",
        "* Stack `red_array_2D`, `green_array_2D`, and`emphasized_blue_array_2D` together (in that order) into a 3D\n",
        "array called `emphasized_blue_monet`."
      ],
      "metadata": {
        "id": "KMMZhG3f6_IE"
      }
    },
    {
      "cell_type": "code",
      "source": [
        "# Print the shapes of blue_array and emphasized_blue_array_2D\n",
        "print(blue_array.shape, emphasized_blue_array_2D.shape)\n",
        "\n",
        "# Reshape red_array and green_array\n",
        "red_array_2D = red_array.reshape((675, 843))\n",
        "green_array_2D = green_array.reshape((675, 843))\n",
        "\n",
        "# Stack red_array_2D, green_array_2D, and emphasized_blue_array_2D\n",
        "emphasized_blue_monet = ________\n",
        "plt.imshow(emphasized_blue_monet)\n",
        "plt.show()"
      ],
      "metadata": {
        "id": "O3ZupRut7Cfr"
      },
      "execution_count": null,
      "outputs": []
    },
    {
      "cell_type": "markdown",
      "source": [
        "Congratulations!\n",
        "----------------\n",
        "\n",
        "### Congratulations!\n",
        "\n",
        "You made it!\n",
        "\n",
        "### Welcome to team NumPy\n",
        "\n",
        "You’re now a card\\-carrying member of Team NumPy. I hope I’ve\n",
        "convinced you that NumPy is amazing.\n",
        "\n",
        "### NumPy is amazing!\n",
        "\n",
        "It leverages the immense calculating power of C while keeping the\n",
        "friendly syntax of Python. In some places, it even makes Python syntax\n",
        "simpler by vectorizing operations!\n",
        "\n",
        "### What’s next?\n",
        "\n",
        "What’s next on your NumPy journey? You could check out one of the\n",
        "many libraries built on top of NumPy’s API. Perhaps you’d like to\n",
        "explore data analysis with pandas, data visualization with Seaborn,\n",
        "parallel programming with Dask, machine learning with scikit\\-learn, or\n",
        "deep learning with TensorFlow. Every one of these libraries is built on\n",
        "top of NumPy, and DataCamp has courses dedicated to all of them.\n",
        "\n",
        "### Congratulations\n",
        "\n",
        "No matter where you take your NumPy knowledge, thanks for taking this\n",
        "course all the way to the end. I’m Izzy Weber, and on behalf of all of\n",
        "us at GLA, congratulations on your wide new array of NumPy\n",
        "skills!\n",
        "\n",
        "### Thank you!\n",
        "\n",
        "Thanks again!"
      ],
      "metadata": {
        "id": "gk7yL99I5ktP"
      }
    }
  ]
}